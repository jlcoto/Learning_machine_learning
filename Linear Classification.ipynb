{
 "cells": [
  {
   "cell_type": "markdown",
   "metadata": {
    "deletable": true,
    "editable": true
   },
   "source": [
    "# Linear Classification\n",
    "\n",
    "Reviewing some linear classification concepts. Here, I will use linear classification on the CIFAR-10 images. "
   ]
  },
  {
   "cell_type": "markdown",
   "metadata": {
    "deletable": true,
    "editable": true
   },
   "source": [
    "### Predicting classes\n",
    "\n",
    "Our linear classifier looks as follows:\n",
    "\n",
    "$$f(x_i, Wb) = Wx_i + b$$\n",
    "\n",
    "where $x_i$ are our inputs (images) and W the weights and b the biases.\n",
    "\n",
    "\n",
    "### Note on matrix shape\n",
    "\n",
    "Note that the CIFAR-10 has 10 classes. Therefore, for a given image, our function should give the probabilities that it belongs to each of these categories. \n",
    "\n",
    "Note that these images will be flatten. "
   ]
  },
  {
   "cell_type": "code",
   "execution_count": 371,
   "metadata": {
    "collapsed": true,
    "deletable": true,
    "editable": true
   },
   "outputs": [],
   "source": [
    "import numpy as np\n",
    "import matplotlib.pyplot as plt\n",
    "import seaborn\n",
    "import pickle\n",
    "from sklearn.preprocessing import LabelBinarizer\n",
    "from sklearn.model_selection import train_test_split\n",
    "%matplotlib inline"
   ]
  },
  {
   "cell_type": "code",
   "execution_count": 372,
   "metadata": {
    "collapsed": true,
    "deletable": true,
    "editable": true
   },
   "outputs": [],
   "source": [
    "## Get One batch of CFAR 10 data set\n",
    "\n",
    "def load_cfar10_batch(cifar10_dataset_folder_path, batch_id):\n",
    "    \"\"\"\n",
    "    Load a batch of the dataset\n",
    "    \"\"\"\n",
    "    with open(cifar10_dataset_folder_path + '/data_batch_' + str(batch_id), mode='rb') as file:\n",
    "        batch = pickle.load(file, encoding='latin1')\n",
    "\n",
    "    features = batch['data'].reshape((len(batch['data']), 3, 32, 32)).transpose(0, 2, 3, 1)\n",
    "    labels = batch['labels']\n",
    "\n",
    "    return features, labels"
   ]
  },
  {
   "cell_type": "code",
   "execution_count": 373,
   "metadata": {
    "collapsed": false,
    "deletable": true,
    "editable": true
   },
   "outputs": [],
   "source": [
    "data = load_cfar10_batch('../Udacity/deep_learning/projects/image-classification/cifar-10-batches-py',\n",
    "                 1)"
   ]
  },
  {
   "cell_type": "code",
   "execution_count": 374,
   "metadata": {
    "collapsed": false,
    "deletable": true,
    "editable": true
   },
   "outputs": [],
   "source": [
    "features = data[0]\n",
    "labels = data[1]"
   ]
  },
  {
   "cell_type": "code",
   "execution_count": 375,
   "metadata": {
    "collapsed": false,
    "deletable": true,
    "editable": true
   },
   "outputs": [],
   "source": [
    "def image_standarization(x):\n",
    "    \"\"\"\n",
    "    Normalize a list of sample image data in the range of 0 to 1\n",
    "    : x: List of image data.  The image shape is (32, 32, 3)\n",
    "    : return: Numpy array of normalize data\n",
    "    \"\"\"\n",
    "    x_demean = x - np.mean(x)\n",
    "    adjusted_sd = np.maximum(np.std(x), 1.0/np.sqrt(np.prod(x.shape)))\n",
    "    return  x_demean / adjusted_sd\n"
   ]
  },
  {
   "cell_type": "code",
   "execution_count": 376,
   "metadata": {
    "collapsed": false,
    "deletable": true,
    "editable": true
   },
   "outputs": [],
   "source": [
    "features = np.array([image_standarization(i) for i in features])"
   ]
  },
  {
   "cell_type": "markdown",
   "metadata": {
    "deletable": true,
    "editable": true
   },
   "source": [
    "### Flattening one Image and going through one of these classifications\n",
    "\n",
    "Here, I will use one image as an example to understand how the matrix multiplication works and how, in the end, we have as output 10 classes.\n",
    "\n",
    "Note that our image has 32, 32, 3 shape. This means it has 32x32 pixels and and red, green, blue channels. As a first step, we flatten this image, resulting in a 1*3072 array.\n",
    "\n",
    "Note that we need to have corresponding weights for each of the pixels. That means that our weights matrix needs to have 3072 rows, one weight per each pixel and 10 columns, one per each classs. On top, we add a bias per class, that is, we add 10 bias. \n",
    "\n",
    "<img src=\"img/linear_class/matrix_mult_linear.png\" width=\"900px\">\n",
    "\n",
    "\n"
   ]
  },
  {
   "cell_type": "code",
   "execution_count": 377,
   "metadata": {
    "collapsed": false,
    "deletable": true,
    "editable": true
   },
   "outputs": [],
   "source": [
    "#Flattening the image\n",
    "first_image = features[0]\n",
    "flatten_first = first_image.flatten()"
   ]
  },
  {
   "cell_type": "code",
   "execution_count": 378,
   "metadata": {
    "collapsed": false,
    "deletable": true,
    "editable": true
   },
   "outputs": [],
   "source": [
    "## Creating randomly our weights \n",
    "weights_matrix = np.random.standard_normal((3072, 10))\n",
    "bias = np.zeros(10)\n",
    "#Performing the dot product\n",
    "matrix_multiply = np.dot(flatten_first, weights_matrix) + bias"
   ]
  },
  {
   "cell_type": "markdown",
   "metadata": {
    "deletable": true,
    "editable": true
   },
   "source": [
    "Once we have our weights, outputs and images, we perform the dot product between the image and weights. This gives us a 1*10 array to which we then add the biases. In the end we have a 10 array which represents the \"scores\" given to each of the classes. We have reduced our 3072 array to a 10 array output thanks to our weights. \n",
    "\n",
    "However, we don't simply want to reduce the dimmensionality of our picture. We want to make sure than when we receive an image as an input, the right category is selected. This means that we need to train our weights to correctly perform such classification."
   ]
  },
  {
   "cell_type": "code",
   "execution_count": 379,
   "metadata": {
    "collapsed": false,
    "deletable": true,
    "editable": true
   },
   "outputs": [
    {
     "data": {
      "text/plain": [
       "5.9467491471520559e-22"
      ]
     },
     "execution_count": 379,
     "metadata": {},
     "output_type": "execute_result"
    }
   ],
   "source": [
    "#Normalization trick for numerical stability\n",
    "matrix_multiply -= np.max(matrix_multiply)\n",
    "# Applying Softmax to our reduced dimension matrix\n",
    "soft_max = np.exp(matrix_multiply) / np.sum(np.exp(matrix_multiply))\n",
    "soft_max[np.argmax(labels[0])]"
   ]
  },
  {
   "cell_type": "markdown",
   "metadata": {
    "deletable": true,
    "editable": true
   },
   "source": [
    "## Evaluating our Weights\n",
    "\n",
    "Once we have perform this matrix multiplication, and push it through a softmax function, is evaluation time. The label that our weights predict, would be the class that has the biggest probability.\n",
    "\n",
    "According to our results, this corresponds to the automobile label. However, the true label corresponds to an airplane. Why the mistake? Simple, our linear classifier has yet to learn. It has started with random weights, therefore, the output will also be random. Here is where the *learning* part of machine learning starts."
   ]
  },
  {
   "cell_type": "code",
   "execution_count": 380,
   "metadata": {
    "collapsed": false,
    "deletable": true,
    "editable": true
   },
   "outputs": [],
   "source": [
    "pred_label = np.argmax(soft_max)"
   ]
  },
  {
   "cell_type": "code",
   "execution_count": 381,
   "metadata": {
    "collapsed": true,
    "deletable": true,
    "editable": true
   },
   "outputs": [],
   "source": [
    "labels_names = 'airplane', 'automobile', 'bird', 'cat', 'deer', 'dog', 'frog', 'horse', 'ship', 'truck'\n",
    "labels_dict = dict(enumerate(labels_names))"
   ]
  },
  {
   "cell_type": "code",
   "execution_count": 382,
   "metadata": {
    "collapsed": false,
    "deletable": true,
    "editable": true
   },
   "outputs": [
    {
     "data": {
      "text/plain": [
       "'truck'"
      ]
     },
     "execution_count": 382,
     "metadata": {},
     "output_type": "execute_result"
    }
   ],
   "source": [
    "labels_dict[pred_label]"
   ]
  },
  {
   "cell_type": "code",
   "execution_count": 383,
   "metadata": {
    "collapsed": false,
    "deletable": true,
    "editable": true
   },
   "outputs": [
    {
     "data": {
      "text/plain": [
       "'frog'"
      ]
     },
     "execution_count": 383,
     "metadata": {},
     "output_type": "execute_result"
    }
   ],
   "source": [
    "labels_dict[labels[0]]"
   ]
  },
  {
   "cell_type": "markdown",
   "metadata": {
    "deletable": true,
    "editable": true
   },
   "source": [
    "## Learning Weights\n",
    "\n",
    "We need to come up with a way of telling our algorithm that it is wrong to classify an airplane as a car. This is where loss functions come into play. Loss functions will measure how much off is our algorithm from the real labels. Loss functions will increase the more difference between predictions and algorithms. The objective is to reduce the loss function. Is from this process of trial and error that our algorithm learns better weights.\n",
    "\n",
    "The loss function for the softmax has the following form:\n",
    "\n",
    "$$L_i = -log \\Big(\\frac{e^{f_{y_i}}}{\\sum_je^{f_j}}\\Big)$$\n",
    "\n",
    "Note that $i$ refers to the correct class. In this case we want to increase our loss function in relation with how well it does at classifying the true label.\n",
    "\n",
    "Let's put an example: suppose we have only three classes to classify: \"car\", \"pen\", \"house\". \n",
    "\n",
    "<img src=\"img/linear_class/softmax.png\" width=\"750px\">\n",
    "\n",
    "In the figure we show the effect after our images have gone through the weights and a softmax function has been applied. As shown, even if the car is the correct label, it only gets a probability of 0.1. Correspondingly, we calculate the loss for this example:"
   ]
  },
  {
   "cell_type": "code",
   "execution_count": 384,
   "metadata": {
    "collapsed": false,
    "deletable": true,
    "editable": true
   },
   "outputs": [
    {
     "data": {
      "text/plain": [
       "2.3025850929940455"
      ]
     },
     "execution_count": 384,
     "metadata": {},
     "output_type": "execute_result"
    }
   ],
   "source": [
    "#Example Loss\n",
    "ex_softmax = np.array([0.1, 0.5, 0.4])\n",
    "true_label = [1, 0, 0]\n",
    "#Getting the calculated softmax for correct label\n",
    "i_loss = np.dot(ex_softmax, true_label)\n",
    "loss = -np.log(i_loss)\n",
    "loss"
   ]
  },
  {
   "cell_type": "markdown",
   "metadata": {
    "deletable": true,
    "editable": true
   },
   "source": [
    "As the calculation reflects, our loss increases, because our prediction is incorrect. It is interesting to show how the softmax changes due to changes in the probability assigned to the right label. To start with, it is important to notice that a logarithm of a small number will be big, the smaller the number, the bigger the result. On the other extreme, $log(1) = 0$. This calculation goes with our intuition. It says, when the right label has a small probability, then you need to add to the loss. On the other hand when there is a probability of 1 on the correct label, there is no need to add to the loss, because the classifier has it right.\n",
    "\n",
    "Here is a graph for our example on how the loss changes given the probabilities assigned to the right label."
   ]
  },
  {
   "cell_type": "code",
   "execution_count": 385,
   "metadata": {
    "collapsed": false,
    "deletable": true,
    "editable": true
   },
   "outputs": [
    {
     "data": {
      "image/png": "[encoded data removed]",
      "text/plain": [
       "<matplotlib.figure.Figure at 0x11fb53208>"
      ]
     },
     "metadata": {},
     "output_type": "display_data"
    }
   ],
   "source": [
    "#Generating different probabilities for correct label\n",
    "y = np.arange(0.00001, 1, 0.01)\n",
    "sim = -np.log(np.arange(0.00001, 1, 0.01))\n",
    "fig, ax = plt.subplots()\n",
    "ax.plot(y, sim);\n",
    "ax.set_title(\"Decreasing of Loss as \\nProbability of correct label Increases\")\n",
    "ax.set_ylabel(\"Loss value\")\n",
    "ax.set_xlabel(\"Probability of Correct Label\");"
   ]
  },
  {
   "cell_type": "markdown",
   "metadata": {
    "deletable": true,
    "editable": true
   },
   "source": [
    "The loss is important because it will guide us in our objective. In particular, we want to make the loss as small as possible. However, what steps do we need to take to make sure we are decreasing the loss. After all, there is a bunch of weights that can be consider. How to make sure we are actually going in the direction of minimizing the loss? \n",
    "\n",
    "Here is where calculus kicks in. Finding the gradient of the loss with respect to the weights makes sure that everytime we update our weights we are doing it in the direction that minimizes the loss function. "
   ]
  },
  {
   "cell_type": "code",
   "execution_count": 386,
   "metadata": {
    "collapsed": false,
    "deletable": true,
    "editable": true
   },
   "outputs": [],
   "source": [
    "# Updating weights after one gradient descent for first image\n",
    "#One hot encoding labels\n",
    "image_cat = list(range(0,10))\n",
    "encoder = LabelBinarizer()\n",
    "encoder.fit(image_cat)\n",
    "labels = encoder.transform(labels)"
   ]
  },
  {
   "cell_type": "code",
   "execution_count": 387,
   "metadata": {
    "collapsed": false,
    "deletable": true,
    "editable": true
   },
   "outputs": [],
   "source": [
    "#For one pass\n",
    "#Getting softmax of correct label\n",
    "soft_max[np.argmax(labels[0])] -= 1\n",
    "dsoft = soft_max\n",
    "dW = np.outer(flatten_first, dsoft)\n",
    "db = np.sum(dsoft, axis=0, keepdims=True)\n",
    "weights_matrix -= 0.5 * dW\n",
    "bias[0] -= 0.5 *db"
   ]
  },
  {
   "cell_type": "markdown",
   "metadata": {
    "deletable": true,
    "editable": true
   },
   "source": [
    "Let's see the changes for our example for one pass"
   ]
  },
  {
   "cell_type": "code",
   "execution_count": 388,
   "metadata": {
    "collapsed": false,
    "deletable": true,
    "editable": true
   },
   "outputs": [
    {
     "data": {
      "text/plain": [
       "1.0"
      ]
     },
     "execution_count": 388,
     "metadata": {},
     "output_type": "execute_result"
    }
   ],
   "source": [
    "matrix_multiply = np.dot(flatten_first, weights_matrix) + bias\n",
    "matrix_multiply -= np.max(matrix_multiply)\n",
    "soft_max = np.exp(matrix_multiply) / np.sum(np.exp(matrix_multiply))\n",
    "soft_max[np.argmax(labels[0])]"
   ]
  },
  {
   "cell_type": "markdown",
   "metadata": {
    "deletable": true,
    "editable": true
   },
   "source": [
    "Our calculations for this image made the weights to properly predict the label. The story is more complicated when more image and labels are to be trained. In this case, there is a lot of trade-offs to be done, and our classifier is bound to make some mistakes. Let's do three things: \n",
    "1. Split our data set in training/validation/testing.\n",
    "2. Train our weights with our training data and then check validation error.\n",
    "3. Test our parameters on test data."
   ]
  },
  {
   "cell_type": "code",
   "execution_count": 389,
   "metadata": {
    "collapsed": false,
    "deletable": true,
    "editable": true
   },
   "outputs": [],
   "source": [
    "#Flattening all images\n",
    "features = features.reshape(10000, 32*32*3)"
   ]
  },
  {
   "cell_type": "code",
   "execution_count": 390,
   "metadata": {
    "collapsed": false,
    "deletable": true,
    "editable": true
   },
   "outputs": [],
   "source": [
    "image, image_test, y, y_test = train_test_split(features,labels,test_size=0.2,train_size=0.8)\n",
    "image_train, image_val, y_train, y_val = train_test_split(image, y,test_size = 0.25,train_size =0.75)"
   ]
  },
  {
   "cell_type": "code",
   "execution_count": 393,
   "metadata": {
    "collapsed": false,
    "deletable": true,
    "editable": true
   },
   "outputs": [
    {
     "name": "stdout",
     "output_type": "stream",
     "text": [
      "Loss: 2.283980714017629\n",
      "Loss: 2.2668458862775016\n",
      "Loss: 2.250903390247017\n",
      "Loss: 2.2360516958032566\n",
      "Loss: 2.2092544308062037\n",
      "Loss: 2.197144632026643\n",
      "Loss: 2.185796348184031\n",
      "Loss: 2.1751444430302764\n",
      "Loss: 2.1556984656142553\n",
      "Loss: 2.1468019524703132\n",
      "Loss: 2.1383960351065205\n",
      "Loss: 2.130440716793144\n",
      "Loss: 2.1157403561577395\n",
      "Loss: 2.1089327391987847\n",
      "Loss: 2.1024499409383317\n",
      "Loss: 2.0962674884106844\n",
      "Loss: 2.0847167650908567\n",
      "Loss: 2.0793099326052755\n",
      "Loss: 2.0741259374709684\n",
      "Loss: 2.069149532385889\n",
      "Loss: 2.059765029558404\n",
      "Loss: 2.0553325819126567\n",
      "Loss: 2.0510588006393022\n",
      "Loss: 2.0469339088722913\n",
      "Loss: 2.039095592534608\n",
      "Loss: 2.035366300361587\n",
      "Loss: 2.0317540334164255\n",
      "Loss: 2.0282523121319223\n",
      "Loss: 2.02155698205151\n",
      "Loss: 2.01835268010952\n",
      "Loss: 2.0152374622852145\n",
      "Loss: 2.012206888335123\n",
      "Loss: 2.0063834212766825\n",
      "Loss: 2.0035830821901337\n",
      "Loss: 2.000852450203889\n",
      "Loss: 1.9981883846240265\n",
      "Loss: 1.9930483724529964\n",
      "Loss: 1.9905670810317988\n",
      "Loss: 1.98814163894897\n",
      "Loss: 1.9857697595626151\n",
      "Loss: 1.981178201223481\n",
      "Loss: 1.9789545791544576\n",
      "Loss: 1.9767766163028324\n",
      "Loss: 1.9746426042955345\n",
      "Loss: 1.9705000539677258\n",
      "Loss: 1.9684885350565358\n",
      "Loss: 1.9665149946404406\n",
      "Loss: 1.964578126906809\n",
      "Loss: 1.9608095082189878\n",
      "Loss: 1.9589754553919738\n",
      "Loss: 1.9571734640688834\n",
      "Loss: 1.9554025158370603\n",
      "Loss: 1.9519499084349876\n",
      "Loss: 1.9502664375755812\n",
      "Loss: 1.9486103813544213\n",
      "Loss: 1.9469809312384132\n",
      "Loss: 1.9437987880177825\n",
      "Loss: 1.9422446449041333\n",
      "Loss: 1.9407142043316534\n",
      "Loss: 1.9392068141665149\n",
      "Loss: 1.9362587068993034\n",
      "Loss: 1.9348168118075295\n",
      "Loss: 1.933395608613798\n",
      "Loss: 1.9319945638597702\n",
      "Loss: 1.9292509158602051\n",
      "Loss: 1.9279073427539057\n",
      "Loss: 1.9265819865267344\n",
      "Loss: 1.9252744052508017\n",
      "Loss: 1.9227108777555173\n",
      "Loss: 1.9214541234098181\n",
      "Loss: 1.9202135264031512\n",
      "Loss: 1.9189887164529829\n",
      "Loss: 1.9165850381334446\n",
      "Loss: 1.915405489106027\n",
      "Loss: 1.914240364798589\n",
      "Loss: 1.9130893517705787\n",
      "Loss: 1.9108284550224055\n",
      "Loss: 1.9097179924128693\n",
      "Loss: 1.9086204825273823\n",
      "Loss: 1.907535657584626\n"
     ]
    }
   ],
   "source": [
    "## Algorithm\n",
    "epochs = 100\n",
    "n_training = len(image_train)\n",
    "step_size = 0.001\n",
    "\n",
    "#Initializing weights and biases\n",
    "weights_matrix = 0.0001*np.random.standard_normal((3072, 10))\n",
    "bias = np.zeros((1,10))\n",
    "#Performing the dot product\n",
    "\n",
    "for i in range(epochs):\n",
    "    \n",
    "    #Perform dot product\n",
    "    matrix_multiply = np.dot(image_train, weights_matrix) + bias\n",
    "    exp = np.exp(matrix_multiply) \n",
    "    soft_max = exp / np.sum(exp, axis=1, keepdims=True)\n",
    "\n",
    "\n",
    "    #Calculating Loss\n",
    "    correct_labels_prob = soft_max[range(n_training), np.argmax(y_train, axis=1)]\n",
    "    loss = np.sum(-np.log(correct_labels_prob)) / n_training\n",
    "    \n",
    "    \n",
    "    #Calculating gradient\n",
    "    g_probs = np.copy(soft_max)\n",
    "    g_probs[range(n_training), np.argmax(y_train, axis=1)] -= 1\n",
    "    \n",
    "    #Get the average of the gradients\n",
    "    g_probs = g_probs / n_training\n",
    "    \n",
    "    dW = np.dot(image_train.T, g_probs)\n",
    "    db = np.sum(g_probs, axis=0, keepdims=True)\n",
    "    \n",
    "    # perform a parameter update\n",
    "    weights_matrix += -step_size * dW\n",
    "    bias += -step_size * db\n",
    "    \n",
    "    if i%5:\n",
    "        print(\"Loss: {}\".format(loss))\n"
   ]
  },
  {
   "cell_type": "markdown",
   "metadata": {
    "deletable": true,
    "editable": true
   },
   "source": [
    "## References"
   ]
  },
  {
   "cell_type": "markdown",
   "metadata": {
    "deletable": true,
    "editable": true
   },
   "source": [
    "[Notes from Stanford's CNN's for visual recognition](http://cs231n.github.io/neural-networks-case-study/)\n",
    "\n",
    "[Deriving the softmax loss](https://math.stackexchange.com/questions/945871/derivative-of-softmax-loss-function)"
   ]
  },
  {
   "cell_type": "code",
   "execution_count": null,
   "metadata": {
    "collapsed": true
   },
   "outputs": [],
   "source": []
  }
 ],
 "metadata": {
  "anaconda-cloud": {},
  "kernelspec": {
   "display_name": "Python [conda env:data_science]",
   "language": "python",
   "name": "conda-env-data_science-py"
  },
  "language_info": {
   "codemirror_mode": {
    "name": "ipython",
    "version": 3
   },
   "file_extension": ".py",
   "mimetype": "text/x-python",
   "name": "python",
   "nbconvert_exporter": "python",
   "pygments_lexer": "ipython3",
   "version": "3.4.5"
  }
 },
 "nbformat": 4,
 "nbformat_minor": 2
}
