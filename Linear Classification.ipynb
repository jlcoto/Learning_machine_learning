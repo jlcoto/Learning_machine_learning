{
 "cells": [
  {
   "cell_type": "markdown",
   "metadata": {
    "deletable": true,
    "editable": true
   },
   "source": [
    "# Linear Classification\n",
    "\n",
    "Reviewing some linear classification concepts. Here, I will use linear classification on the CIFAR-10 images. "
   ]
  },
  {
   "cell_type": "markdown",
   "metadata": {
    "deletable": true,
    "editable": true
   },
   "source": [
    "### Predicting classes\n",
    "\n",
    "Our linear classifier looks as follows:\n",
    "\n",
    "$$f(x_i, Wb) = Wx_i + b$$\n",
    "\n",
    "where $x_i$ are our inputs (images) and W the weights and b the biases.\n",
    "\n",
    "\n",
    "### Note on matrix shape\n",
    "\n",
    "Note that the CIFAR-10 has 10 classes. Therefore, for a given image, our function should give the probabilities that it belongs to each of these categories. \n",
    "\n",
    "Note that these images will be flatten. "
   ]
  },
  {
   "cell_type": "code",
   "execution_count": 371,
   "metadata": {
    "collapsed": true,
    "deletable": true,
    "editable": true
   },
   "outputs": [],
   "source": [
    "import numpy as np\n",
    "import matplotlib.pyplot as plt\n",
    "import seaborn\n",
    "import pickle\n",
    "from sklearn.preprocessing import LabelBinarizer\n",
    "from sklearn.model_selection import train_test_split\n",
    "%matplotlib inline"
   ]
  },
  {
   "cell_type": "code",
   "execution_count": 372,
   "metadata": {
    "collapsed": true,
    "deletable": true,
    "editable": true
   },
   "outputs": [],
   "source": [
    "## Get One batch of CFAR 10 data set\n",
    "\n",
    "def load_cfar10_batch(cifar10_dataset_folder_path, batch_id):\n",
    "    \"\"\"\n",
    "    Load a batch of the dataset\n",
    "    \"\"\"\n",
    "    with open(cifar10_dataset_folder_path + '/data_batch_' + str(batch_id), mode='rb') as file:\n",
    "        batch = pickle.load(file, encoding='latin1')\n",
    "\n",
    "    features = batch['data'].reshape((len(batch['data']), 3, 32, 32)).transpose(0, 2, 3, 1)\n",
    "    labels = batch['labels']\n",
    "\n",
    "    return features, labels"
   ]
  },
  {
   "cell_type": "code",
   "execution_count": 373,
   "metadata": {
    "collapsed": false,
    "deletable": true,
    "editable": true
   },
   "outputs": [],
   "source": [
    "data = load_cfar10_batch('../Udacity/deep_learning/projects/image-classification/cifar-10-batches-py',\n",
    "                 1)"
   ]
  },
  {
   "cell_type": "code",
   "execution_count": 374,
   "metadata": {
    "collapsed": false,
    "deletable": true,
    "editable": true
   },
   "outputs": [],
   "source": [
    "features = data[0]\n",
    "labels = data[1]"
   ]
  },
  {
   "cell_type": "code",
   "execution_count": 375,
   "metadata": {
    "collapsed": false,
    "deletable": true,
    "editable": true
   },
   "outputs": [],
   "source": [
    "def image_standarization(x):\n",
    "    \"\"\"\n",
    "    Normalize a list of sample image data in the range of 0 to 1\n",
    "    : x: List of image data.  The image shape is (32, 32, 3)\n",
    "    : return: Numpy array of normalize data\n",
    "    \"\"\"\n",
    "    x_demean = x - np.mean(x)\n",
    "    adjusted_sd = np.maximum(np.std(x), 1.0/np.sqrt(np.prod(x.shape)))\n",
    "    return  x_demean / adjusted_sd\n"
   ]
  },
  {
   "cell_type": "code",
   "execution_count": 376,
   "metadata": {
    "collapsed": false,
    "deletable": true,
    "editable": true
   },
   "outputs": [],
   "source": [
    "features = np.array([image_standarization(i) for i in features])"
   ]
  },
  {
   "cell_type": "markdown",
   "metadata": {
    "deletable": true,
    "editable": true
   },
   "source": [
    "### Flattening one Image and going through one of these classifications\n",
    "\n",
    "Here, I will use one image as an example to understand how the matrix multiplication works and how, in the end, we have as output 10 classes.\n",
    "\n",
    "Note that our image has 32, 32, 3 shape. This means it has 32x32 pixels and and red, green, blue channels. As a first step, we flatten this image, resulting in a 1*3072 array.\n",
    "\n",
    "Note that we need to have corresponding weights for each of the pixels. That means that our weights matrix needs to have 3072 rows, one weight per each pixel and 10 columns, one per each classs. On top, we add a bias per class, that is, we add 10 bias. \n",
    "\n",
    "<img src=\"img/linear_class/matrix_mult_linear.png\" width=\"900px\">\n",
    "\n",
    "\n"
   ]
  },
  {
   "cell_type": "code",
   "execution_count": 377,
   "metadata": {
    "collapsed": false,
    "deletable": true,
    "editable": true
   },
   "outputs": [],
   "source": [
    "#Flattening the image\n",
    "first_image = features[0]\n",
    "flatten_first = first_image.flatten()"
   ]
  },
  {
   "cell_type": "code",
   "execution_count": 378,
   "metadata": {
    "collapsed": false,
    "deletable": true,
    "editable": true
   },
   "outputs": [],
   "source": [
    "## Creating randomly our weights \n",
    "weights_matrix = np.random.standard_normal((3072, 10))\n",
    "bias = np.zeros(10)\n",
    "#Performing the dot product\n",
    "matrix_multiply = np.dot(flatten_first, weights_matrix) + bias"
   ]
  },
  {
   "cell_type": "markdown",
   "metadata": {
    "deletable": true,
    "editable": true
   },
   "source": [
    "Once we have our weights, outputs and images, we perform the dot product between the image and weights. This gives us a 1*10 array to which we then add the biases. In the end we have a 10 array which represents the \"scores\" given to each of the classes. We have reduced our 3072 array to a 10 array output thanks to our weights. \n",
    "\n",
    "However, we don't simply want to reduce the dimmensionality of our picture. We want to make sure than when we receive an image as an input, the right category is selected. This means that we need to train our weights to correctly perform such classification."
   ]
  },
  {
   "cell_type": "code",
   "execution_count": 379,
   "metadata": {
    "collapsed": false,
    "deletable": true,
    "editable": true
   },
   "outputs": [
    {
     "data": {
      "text/plain": [
       "5.9467491471520559e-22"
      ]
     },
     "execution_count": 379,
     "metadata": {},
     "output_type": "execute_result"
    }
   ],
   "source": [
    "#Normalization trick for numerical stability\n",
    "matrix_multiply -= np.max(matrix_multiply)\n",
    "# Applying Softmax to our reduced dimension matrix\n",
    "soft_max = np.exp(matrix_multiply) / np.sum(np.exp(matrix_multiply))\n",
    "soft_max[np.argmax(labels[0])]"
   ]
  },
  {
   "cell_type": "markdown",
   "metadata": {
    "deletable": true,
    "editable": true
   },
   "source": [
    "## Evaluating our Weights\n",
    "\n",
    "Once we have perform this matrix multiplication, and push it through a softmax function, is evaluation time. The label that our weights predict, would be the class that has the biggest probability.\n",
    "\n",
    "According to our results, this corresponds to the automobile label. However, the true label corresponds to an airplane. Why the mistake? Simple, our linear classifier has yet to learn. It has started with random weights, therefore, the output will also be random. Here is where the *learning* part of machine learning starts."
   ]
  },
  {
   "cell_type": "code",
   "execution_count": 380,
   "metadata": {
    "collapsed": false,
    "deletable": true,
    "editable": true
   },
   "outputs": [],
   "source": [
    "pred_label = np.argmax(soft_max)"
   ]
  },
  {
   "cell_type": "code",
   "execution_count": 381,
   "metadata": {
    "collapsed": true,
    "deletable": true,
    "editable": true
   },
   "outputs": [],
   "source": [
    "labels_names = 'airplane', 'automobile', 'bird', 'cat', 'deer', 'dog', 'frog', 'horse', 'ship', 'truck'\n",
    "labels_dict = dict(enumerate(labels_names))"
   ]
  },
  {
   "cell_type": "code",
   "execution_count": 382,
   "metadata": {
    "collapsed": false,
    "deletable": true,
    "editable": true
   },
   "outputs": [
    {
     "data": {
      "text/plain": [
       "'truck'"
      ]
     },
     "execution_count": 382,
     "metadata": {},
     "output_type": "execute_result"
    }
   ],
   "source": [
    "labels_dict[pred_label]"
   ]
  },
  {
   "cell_type": "code",
   "execution_count": 383,
   "metadata": {
    "collapsed": false,
    "deletable": true,
    "editable": true
   },
   "outputs": [
    {
     "data": {
      "text/plain": [
       "'frog'"
      ]
     },
     "execution_count": 383,
     "metadata": {},
     "output_type": "execute_result"
    }
   ],
   "source": [
    "labels_dict[labels[0]]"
   ]
  },
  {
   "cell_type": "markdown",
   "metadata": {
    "deletable": true,
    "editable": true
   },
   "source": [
    "## Learning Weights\n",
    "\n",
    "We need to come up with a way of telling our algorithm that it is wrong to classify an airplane as a car. This is where loss functions come into play. Loss functions will measure how much off is our algorithm from the real labels. Loss functions will increase the more difference between predictions and algorithms. The objective is to reduce the loss function. Is from this process of trial and error that our algorithm learns better weights.\n",
    "\n",
    "The loss function for the softmax has the following form:\n",
    "\n",
    "$$L_i = -log \\Big(\\frac{e^{f_{y_i}}}{\\sum_je^{f_j}}\\Big)$$\n",
    "\n",
    "Note that $i$ refers to the correct class. In this case we want to increase our loss function in relation with how well it does at classifying the true label.\n",
    "\n",
    "Let's put an example: suppose we have only three classes to classify: \"car\", \"pen\", \"house\". \n",
    "\n",
    "<img src=\"img/linear_class/softmax.png\" width=\"750px\">\n",
    "\n",
    "In the figure we show the effect after our images have gone through the weights and a softmax function has been applied. As shown, even if the car is the correct label, it only gets a probability of 0.1. Correspondingly, we calculate the loss for this example:"
   ]
  },
  {
   "cell_type": "code",
   "execution_count": 384,
   "metadata": {
    "collapsed": false,
    "deletable": true,
    "editable": true
   },
   "outputs": [
    {
     "data": {
      "text/plain": [
       "2.3025850929940455"
      ]
     },
     "execution_count": 384,
     "metadata": {},
     "output_type": "execute_result"
    }
   ],
   "source": [
    "#Example Loss\n",
    "ex_softmax = np.array([0.1, 0.5, 0.4])\n",
    "true_label = [1, 0, 0]\n",
    "#Getting the calculated softmax for correct label\n",
    "i_loss = np.dot(ex_softmax, true_label)\n",
    "loss = -np.log(i_loss)\n",
    "loss"
   ]
  },
  {
   "cell_type": "markdown",
   "metadata": {
    "deletable": true,
    "editable": true
   },
   "source": [
    "As the calculation reflects, our loss increases, because our prediction is incorrect. It is interesting to show how the softmax changes due to changes in the probability assigned to the right label. To start with, it is important to notice that a logarithm of a small number will be big, the smaller the number, the bigger the result. On the other extreme, $log(1) = 0$. This calculation goes with our intuition. It says, when the right label has a small probability, then you need to add to the loss. On the other hand when there is a probability of 1 on the correct label, there is no need to add to the loss, because the classifier has it right.\n",
    "\n",
    "Here is a graph for our example on how the loss changes given the probabilities assigned to the right label."
   ]
  },
  {
   "cell_type": "code",
   "execution_count": 385,
   "metadata": {
    "collapsed": false,
    "deletable": true,
    "editable": true
   },
   "outputs": [
    {
     "data": {
      "image/png": "[encoded data removed]",
      "text/plain": [
       "<matplotlib.figure.Figure at 0x11fb53208>"
      ]
     },
     "metadata": {},
     "output_type": "display_data"
    }
   ],
   "source": [
    "#Generating different probabilities for correct label\n",
    "y = np.arange(0.00001, 1, 0.01)\n",
    "sim = -np.log(np.arange(0.00001, 1, 0.01))\n",
    "fig, ax = plt.subplots()\n",
    "ax.plot(y, sim);\n",
    "ax.set_title(\"Decreasing of Loss as \\nProbability of correct label Increases\")\n",
    "ax.set_ylabel(\"Loss value\")\n",
    "ax.set_xlabel(\"Probability of Correct Label\");"
   ]
  },
  {
   "cell_type": "markdown",
   "metadata": {
    "deletable": true,
    "editable": true
   },
   "source": [
    "The loss is important because it will guide us in our objective. In particular, we want to make the loss as small as possible. However, what steps do we need to take to make sure we are decreasing the loss. After all, there is a bunch of weights that can be consider. How to make sure we are actually going in the direction of minimizing the loss? \n",
    "\n",
    "Here is where calculus kicks in. Finding the gradient of the loss with respect to the weights makes sure that everytime we update our weights we are doing it in the direction that minimizes the loss function. "
   ]
  },
  {
   "cell_type": "code",
   "execution_count": 386,
   "metadata": {
    "collapsed": false,
    "deletable": true,
    "editable": true
   },
   "outputs": [],
   "source": [
    "# Updating weights after one gradient descent for first image\n",
    "#One hot encoding labels\n",
    "image_cat = list(range(0,10))\n",
    "encoder = LabelBinarizer()\n",
    "encoder.fit(image_cat)\n",
    "labels = encoder.transform(labels)"
   ]
  },
  {
   "cell_type": "code",
   "execution_count": 387,
   "metadata": {
    "collapsed": false,
    "deletable": true,
    "editable": true
   },
   "outputs": [],
   "source": [
    "#For one pass\n",
    "#Getting softmax of correct label\n",
    "soft_max[np.argmax(labels[0])] -= 1\n",
    "dsoft = soft_max\n",
    "dW = np.outer(flatten_first, dsoft)\n",
    "db = np.sum(dsoft, axis=0, keepdims=True)\n",
    "weights_matrix -= 0.5 * dW\n",
    "bias[0] -= 0.5 *db"
   ]
  },
  {
   "cell_type": "markdown",
   "metadata": {
    "deletable": true,
    "editable": true
   },
   "source": [
    "Let's see the changes for our example for one pass"
   ]
  },
  {
   "cell_type": "code",
   "execution_count": 388,
   "metadata": {
    "collapsed": false,
    "deletable": true,
    "editable": true
   },
   "outputs": [
    {
     "data": {
      "text/plain": [
       "1.0"
      ]
     },
     "execution_count": 388,
     "metadata": {},
     "output_type": "execute_result"
    }
   ],
   "source": [
    "matrix_multiply = np.dot(flatten_first, weights_matrix) + bias\n",
    "matrix_multiply -= np.max(matrix_multiply)\n",
    "soft_max = np.exp(matrix_multiply) / np.sum(np.exp(matrix_multiply))\n",
    "soft_max[np.argmax(labels[0])]"
   ]
  },
  {
   "cell_type": "markdown",
   "metadata": {
    "deletable": true,
    "editable": true
   },
   "source": [
    "Our calculations for this image made the weights to properly predict the label. The story is more complicated when more image and labels are to be trained. In this case, there is a lot of trade-offs to be done, and our classifier is bound to make some mistakes. Let's do three things: \n",
    "1. Split our data set in training/validation/testing.\n",
    "2. Train our weights with our training data and then check validation error.\n",
    "3. Test our parameters on test data."
   ]
  },
  {
   "cell_type": "code",
   "execution_count": 389,
   "metadata": {
    "collapsed": false,
    "deletable": true,
    "editable": true
   },
   "outputs": [],
   "source": [
    "#Flattening all images\n",
    "features = features.reshape(10000, 32*32*3)"
   ]
  },
  {
   "cell_type": "code",
   "execution_count": 390,
   "metadata": {
    "collapsed": false,
    "deletable": true,
    "editable": true
   },
   "outputs": [],
   "source": [
    "image, image_test, y, y_test = train_test_split(features,labels,test_size=0.2,train_size=0.8)\n",
    "image_train, image_val, y_train, y_val = train_test_split(image, y,test_size = 0.25,train_size =0.75)"
   ]
  },
  {
   "cell_type": "code",
   "execution_count": 405,
   "metadata": {
    "collapsed": true
   },
   "outputs": [],
   "source": [
    "def score(features, weights):\n",
    "    matrix_multiply = np.dot(features, weights) + bias\n",
    "    exp = np.exp(matrix_multiply) \n",
    "    soft_max = exp / np.sum(exp, axis=1, keepdims=True)\n",
    "    return soft_max\n",
    "    "
   ]
  },
  {
   "cell_type": "code",
   "execution_count": 421,
   "metadata": {
    "collapsed": false,
    "deletable": true,
    "editable": true
   },
   "outputs": [
    {
     "name": "stdout",
     "output_type": "stream",
     "text": [
      "Loss: 2.2846163888484794\n",
      "Validation Accuracy: 0.8563\n",
      "Loss: 2.2674336269140962\n",
      "Validation Accuracy: 0.8568\n",
      "Loss: 2.251447491862663\n",
      "Validation Accuracy: 0.8569\n",
      "Loss: 2.236556120632148\n",
      "Validation Accuracy: 0.8574\n",
      "Loss: 2.2096901380587832\n",
      "Validation Accuracy: 0.8577\n",
      "Loss: 2.1975507158152436\n",
      "Validation Accuracy: 0.8576\n",
      "Loss: 2.18617560615842\n",
      "Validation Accuracy: 0.8576\n",
      "Loss: 2.1754994254573985\n",
      "Validation Accuracy: 0.8576\n",
      "Loss: 2.1560116449626188\n",
      "Validation Accuracy: 0.8583\n",
      "Loss: 2.1470971949402267\n",
      "Validation Accuracy: 0.8584\n",
      "Loss: 2.138675071056721\n",
      "Validation Accuracy: 0.8587\n",
      "Loss: 2.1307051110346933\n",
      "Validation Accuracy: 0.8591\n",
      "Loss: 2.115979569487773\n",
      "Validation Accuracy: 0.8594\n",
      "Loss: 2.1091611498544176\n",
      "Validation Accuracy: 0.8596\n",
      "Loss: 2.1026685849994236\n",
      "Validation Accuracy: 0.8593\n",
      "Loss: 2.09647729870283\n",
      "Validation Accuracy: 0.8599\n",
      "Loss: 2.084911341633739\n",
      "Validation Accuracy: 0.8607\n",
      "Loss: 2.079497948569199\n",
      "Validation Accuracy: 0.8611\n",
      "Loss: 2.0743080029727183\n",
      "Validation Accuracy: 0.8615\n",
      "Loss: 2.069326195669973\n",
      "Validation Accuracy: 0.8616\n",
      "Loss: 2.0599323159540375\n",
      "Validation Accuracy: 0.8616\n",
      "Loss: 2.0554957984825895\n",
      "Validation Accuracy: 0.8617\n",
      "Loss: 2.0512183042854986\n",
      "Validation Accuracy: 0.8619\n",
      "Loss: 2.0470900201117876\n",
      "Validation Accuracy: 0.862\n",
      "Loss: 2.0392457530961057\n",
      "Validation Accuracy: 0.8626\n",
      "Loss: 2.0355138469277128\n",
      "Validation Accuracy: 0.8629\n",
      "Loss: 2.0318991744167634\n",
      "Validation Accuracy: 0.8629\n",
      "Loss: 2.028395234733484\n",
      "Validation Accuracy: 0.8628\n",
      "Loss: 2.0216959549268037\n",
      "Validation Accuracy: 0.8634\n",
      "Loss: 2.0184898891098957\n",
      "Validation Accuracy: 0.8638\n",
      "Loss: 2.0153730291044867\n",
      "Validation Accuracy: 0.8638\n",
      "Loss: 2.0123409222431\n",
      "Validation Accuracy: 0.864\n",
      "Loss: 2.0065146736634163\n",
      "Validation Accuracy: 0.8645\n",
      "Loss: 2.0037130669322134\n",
      "Validation Accuracy: 0.8647\n",
      "Loss: 2.0009812382817587\n",
      "Validation Accuracy: 0.8647\n",
      "Loss: 1.9983160397449822\n",
      "Validation Accuracy: 0.865\n",
      "Loss: 1.9931739273015092\n",
      "Validation Accuracy: 0.8654\n",
      "Loss: 1.9906916574135958\n",
      "Validation Accuracy: 0.8653\n",
      "Loss: 1.9882652781415895\n",
      "Validation Accuracy: 0.8654\n",
      "Loss: 1.9858924985818722\n",
      "Validation Accuracy: 0.8655\n",
      "Loss: 1.981299236016356\n",
      "Validation Accuracy: 0.8656\n",
      "Loss: 1.9790748033647063\n",
      "Validation Accuracy: 0.8657\n",
      "Loss: 1.976896053813027\n",
      "Validation Accuracy: 0.866\n",
      "Loss: 1.9747612764973794\n",
      "Validation Accuracy: 0.8658\n",
      "Loss: 1.9706172510163802\n",
      "Validation Accuracy: 0.8664\n",
      "Loss: 1.96860501845688\n",
      "Validation Accuracy: 0.8665\n",
      "Loss: 1.9666307781338976\n",
      "Validation Accuracy: 0.8668\n",
      "Loss: 1.9646932227916654\n",
      "Validation Accuracy: 0.8669\n",
      "Loss: 1.9609232607522193\n",
      "Validation Accuracy: 0.8671\n",
      "Loss: 1.9590885499957873\n",
      "Validation Accuracy: 0.8674\n",
      "Loss: 1.9572859086431718\n",
      "Validation Accuracy: 0.8675\n",
      "Loss: 1.9555143174613516\n",
      "Validation Accuracy: 0.8675\n",
      "Loss: 1.9520604425589094\n",
      "Validation Accuracy: 0.8672\n",
      "Loss: 1.9503763459250834\n",
      "Validation Accuracy: 0.867\n",
      "Loss: 1.9487196685456663\n",
      "Validation Accuracy: 0.8668\n",
      "Loss: 1.9470896014378973\n",
      "Validation Accuracy: 0.8668\n",
      "Loss: 1.9439062351975445\n",
      "Validation Accuracy: 0.8673\n",
      "Loss: 1.942351485404064\n",
      "Validation Accuracy: 0.8676\n",
      "Loss: 1.940820441005324\n",
      "Validation Accuracy: 0.8678\n",
      "Loss: 1.939312449637632\n",
      "Validation Accuracy: 0.868\n",
      "Loss: 1.9363631470718476\n",
      "Validation Accuracy: 0.8679\n",
      "Loss: 1.9349206575698232\n",
      "Validation Accuracy: 0.8678\n",
      "Loss: 1.93349886195552\n",
      "Validation Accuracy: 0.8678\n",
      "Loss: 1.9320972266694814\n",
      "Validation Accuracy: 0.8679\n",
      "Loss: 1.9293524029565057\n",
      "Validation Accuracy: 0.868\n",
      "Loss: 1.9280082445502649\n",
      "Validation Accuracy: 0.868\n",
      "Loss: 1.9266823046712531\n",
      "Validation Accuracy: 0.8679\n",
      "Loss: 1.9253741413639807\n",
      "Validation Accuracy: 0.8682\n",
      "Loss: 1.9228094546067163\n",
      "Validation Accuracy: 0.8683\n",
      "Loss: 1.9215521230213162\n",
      "Validation Accuracy: 0.8683\n",
      "Loss: 1.9203109503752782\n",
      "Validation Accuracy: 0.8681\n",
      "Loss: 1.9190855663984345\n",
      "Validation Accuracy: 0.8682\n",
      "Loss: 1.916680744938576\n",
      "Validation Accuracy: 0.8684\n",
      "Loss: 1.9155006268456392\n",
      "Validation Accuracy: 0.8685\n",
      "Loss: 1.9143349351803929\n",
      "Validation Accuracy: 0.8687\n",
      "Loss: 1.9131833565343308\n",
      "Validation Accuracy: 0.869\n",
      "Loss: 1.9109213339084976\n",
      "Validation Accuracy: 0.8689\n",
      "Loss: 1.9098103111132005\n",
      "Validation Accuracy: 0.869\n",
      "Loss: 1.9087122429286758\n",
      "Validation Accuracy: 0.8689\n",
      "Loss: 1.907626861613216\n",
      "Validation Accuracy: 0.8689\n",
      "Loss: 1.9054931284737437\n",
      "Validation Accuracy: 0.8691\n",
      "Loss: 1.9044442800635109\n",
      "Validation Accuracy: 0.8689\n",
      "Loss: 1.903407124750785\n",
      "Validation Accuracy: 0.8688\n",
      "Loss: 1.902381431891867\n",
      "Validation Accuracy: 0.8688\n",
      "Loss: 1.900363543563032\n",
      "Validation Accuracy: 0.8689\n",
      "Loss: 1.8993709186661114\n",
      "Validation Accuracy: 0.8689\n",
      "Loss: 1.8983888969017086\n",
      "Validation Accuracy: 0.8688\n",
      "Loss: 1.8974172780833585\n",
      "Validation Accuracy: 0.8689\n",
      "Loss: 1.8955044754799788\n",
      "Validation Accuracy: 0.869\n",
      "Loss: 1.8945629176793222\n",
      "Validation Accuracy: 0.869\n",
      "Loss: 1.8936310144249182\n",
      "Validation Accuracy: 0.8692\n",
      "Loss: 1.8927085907810197\n",
      "Validation Accuracy: 0.8692\n",
      "Loss: 1.8908915050519135\n",
      "Validation Accuracy: 0.8694\n",
      "Loss: 1.8899965151012588\n",
      "Validation Accuracy: 0.8697\n",
      "Loss: 1.8891103487364842\n",
      "Validation Accuracy: 0.8697\n",
      "Loss: 1.888232852146002\n",
      "Validation Accuracy: 0.8698\n",
      "Loss: 1.886503271944095\n",
      "Validation Accuracy: 0.8699\n",
      "Loss: 1.8856508992392986\n",
      "Validation Accuracy: 0.8699\n",
      "Loss: 1.8848066178856255\n",
      "Validation Accuracy: 0.8699\n",
      "Loss: 1.8839702918915024\n",
      "Validation Accuracy: 0.8699\n",
      "Loss: 1.8823209780432328\n",
      "Validation Accuracy: 0.8701\n",
      "Loss: 1.881507733931383\n",
      "Validation Accuracy: 0.8702\n",
      "Loss: 1.8807019324716017\n",
      "Validation Accuracy: 0.8703\n",
      "Loss: 1.8799034528211451\n",
      "Validation Accuracy: 0.8703\n",
      "Loss: 1.8783279892666318\n",
      "Validation Accuracy: 0.8705\n",
      "Loss: 1.8775507771193334\n",
      "Validation Accuracy: 0.8705\n",
      "Loss: 1.8767804301374542\n",
      "Validation Accuracy: 0.8704\n",
      "Loss: 1.8760168404479425\n",
      "Validation Accuracy: 0.8707\n",
      "Loss: 1.8745095132248912\n",
      "Validation Accuracy: 0.8709\n",
      "Loss: 1.8737655715124637\n",
      "Validation Accuracy: 0.8707\n",
      "Loss: 1.873027978604541\n",
      "Validation Accuracy: 0.8706\n",
      "Loss: 1.872296637804801\n",
      "Validation Accuracy: 0.8709\n",
      "Loss: 1.8708523359288562\n",
      "Validation Accuracy: 0.8709\n",
      "Loss: 1.8701391914748047\n",
      "Validation Accuracy: 0.8709\n",
      "Loss: 1.8694319322649013\n",
      "Validation Accuracy: 0.8709\n",
      "Loss: 1.8687304712924366\n",
      "Validation Accuracy: 0.871\n",
      "Loss: 1.8673446048945204\n",
      "Validation Accuracy: 0.8708\n",
      "Loss: 1.8666600341752522\n",
      "Validation Accuracy: 0.8708\n",
      "Loss: 1.8659809310149054\n",
      "Validation Accuracy: 0.8708\n",
      "Loss: 1.865307216853589\n",
      "Validation Accuracy: 0.871\n",
      "Loss: 1.863975649039433\n",
      "Validation Accuracy: 0.8711\n",
      "Loss: 1.8633176458980585\n",
      "Validation Accuracy: 0.871\n",
      "Loss: 1.86266473270188\n",
      "Validation Accuracy: 0.871\n",
      "Loss: 1.862016838291856\n",
      "Validation Accuracy: 0.871\n",
      "Loss: 1.8607358280062303\n",
      "Validation Accuracy: 0.871\n",
      "Loss: 1.860102576523066\n",
      "Validation Accuracy: 0.871\n",
      "Loss: 1.8594740725456786\n",
      "Validation Accuracy: 0.8711\n",
      "Loss: 1.8588502514297063\n",
      "Validation Accuracy: 0.8711\n",
      "Loss: 1.8576164052180324\n",
      "Validation Accuracy: 0.8713\n",
      "Loss: 1.8570062567603138\n",
      "Validation Accuracy: 0.8713\n",
      "Loss: 1.8564005443841785\n",
      "Validation Accuracy: 0.8715\n",
      "Loss: 1.8557992092045084\n",
      "Validation Accuracy: 0.8715\n",
      "Loss: 1.85460944022414\n",
      "Validation Accuracy: 0.8715\n",
      "Loss: 1.8540208939087353\n",
      "Validation Accuracy: 0.8715\n",
      "Loss: 1.8534364997124042\n",
      "Validation Accuracy: 0.8715\n",
      "Loss: 1.8528562038615661\n",
      "Validation Accuracy: 0.8714\n",
      "Loss: 1.8517076968440258\n",
      "Validation Accuracy: 0.8713\n",
      "Loss: 1.8511393828078175\n",
      "Validation Accuracy: 0.8713\n",
      "Loss: 1.850574961336617\n",
      "Validation Accuracy: 0.8713\n",
      "Loss: 1.8500143832100475\n",
      "Validation Accuracy: 0.8714\n",
      "Loss: 1.8489045643426822\n",
      "Validation Accuracy: 0.8716\n",
      "Loss: 1.8483552293387178\n",
      "Validation Accuracy: 0.8716\n",
      "Loss: 1.847809549117031\n",
      "Validation Accuracy: 0.8717\n",
      "Loss: 1.847267478526749\n",
      "Validation Accuracy: 0.8717\n",
      "Loss: 1.8461939894283508\n",
      "Validation Accuracy: 0.8717\n",
      "Loss: 1.8456624843612925\n",
      "Validation Accuracy: 0.8718\n",
      "Loss: 1.8451344157763385\n",
      "Validation Accuracy: 0.872\n",
      "Loss: 1.8446097421711354\n",
      "Validation Accuracy: 0.872\n",
      "Loss: 1.8435704172962486\n",
      "Validation Accuracy: 0.872\n",
      "Loss: 1.8430556863849785\n",
      "Validation Accuracy: 0.872\n",
      "Loss: 1.8425441911427607\n",
      "Validation Accuracy: 0.8721\n",
      "Loss: 1.842035893347771\n",
      "Validation Accuracy: 0.8721\n",
      "Loss: 1.841028740279774\n",
      "Validation Accuracy: 0.8721\n",
      "Loss: 1.840529811593317\n",
      "Validation Accuracy: 0.8722\n",
      "Loss: 1.8400339335029863\n",
      "Validation Accuracy: 0.8722\n",
      "Loss: 1.8395410707445317\n",
      "Validation Accuracy: 0.8723\n",
      "Loss: 1.8385642529363964\n",
      "Validation Accuracy: 0.8724\n",
      "Loss: 1.8380802300953911\n",
      "Validation Accuracy: 0.8725\n",
      "Loss: 1.837599086982252\n",
      "Validation Accuracy: 0.8726\n",
      "Loss: 1.8371207910058114\n",
      "Validation Accuracy: 0.8727\n"
     ]
    }
   ],
   "source": [
    "## Algorithm\n",
    "epochs = 200\n",
    "n_training = len(image_train)\n",
    "step_size = 0.001\n",
    "\n",
    "#Initializing weights and biases\n",
    "weights_matrix = 0.0001*np.random.standard_normal((3072, 10))\n",
    "bias = np.zeros((1,10))\n",
    "#Performing the dot product\n",
    "\n",
    "for i in range(epochs):\n",
    "    \n",
    "    #Perform dot product \n",
    "    soft_max = score(image_train, weights_matrix)\n",
    "\n",
    "\n",
    "    #Calculating Loss\n",
    "    correct_labels_prob = soft_max[range(n_training), np.argmax(y_train, axis=1)]\n",
    "    loss = np.sum(-np.log(correct_labels_prob)) / n_training\n",
    "    \n",
    "    \n",
    "    #Calculating gradient\n",
    "    g_probs = np.copy(soft_max)\n",
    "    g_probs[range(n_training), np.argmax(y_train, axis=1)] -= 1\n",
    "    \n",
    "    #Get the average of the gradients\n",
    "    g_probs = g_probs / n_training\n",
    "    \n",
    "    dW = np.dot(image_train.T, g_probs)\n",
    "    db = np.sum(g_probs, axis=0, keepdims=True)\n",
    "    \n",
    "    # perform a parameter update\n",
    "    weights_matrix += -step_size * dW\n",
    "    bias += -step_size * db\n",
    "    \n",
    "    if i%5:\n",
    "        print(\"Loss: {}\".format(loss))\n",
    "\n",
    "    # evaluate training set accuracy\n",
    "    preds_score = score(image_val, weights_matrix)\n",
    "    pred_ones = np.zeros_like(preds_score) #generates zero matrix to populate them with ones to then make comparisons\n",
    "    pred_ones[np.arange(len(preds_score)), preds_score.argmax(1)] = 1\n",
    "    accuracy = np.mean(pred_ones == y_val)\n",
    "\n",
    "    if i%5:\n",
    "        print(\"Validation Accuracy: {}\".format(accuracy))"
   ]
  },
  {
   "cell_type": "code",
   "execution_count": null,
   "metadata": {
    "collapsed": true
   },
   "outputs": [],
   "source": []
  },
  {
   "cell_type": "markdown",
   "metadata": {
    "deletable": true,
    "editable": true
   },
   "source": [
    "## References"
   ]
  },
  {
   "cell_type": "markdown",
   "metadata": {
    "deletable": true,
    "editable": true
   },
   "source": [
    "[Notes from Stanford's CNN's for visual recognition](http://cs231n.github.io/neural-networks-case-study/)\n",
    "\n",
    "[Deriving the softmax loss](https://math.stackexchange.com/questions/945871/derivative-of-softmax-loss-function)"
   ]
  },
  {
   "cell_type": "code",
   "execution_count": null,
   "metadata": {
    "collapsed": true
   },
   "outputs": [],
   "source": []
  }
 ],
 "metadata": {
  "anaconda-cloud": {},
  "kernelspec": {
   "display_name": "Python [conda env:data_science]",
   "language": "python",
   "name": "conda-env-data_science-py"
  },
  "language_info": {
   "codemirror_mode": {
    "name": "ipython",
    "version": 3
   },
   "file_extension": ".py",
   "mimetype": "text/x-python",
   "name": "python",
   "nbconvert_exporter": "python",
   "pygments_lexer": "ipython3",
   "version": "3.4.5"
  }
 },
 "nbformat": 4,
 "nbformat_minor": 2
}
