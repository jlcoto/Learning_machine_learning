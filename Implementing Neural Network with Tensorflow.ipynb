{
 "cells": [
  {
   "cell_type": "markdown",
   "metadata": {},
   "source": [
    "# Neural Network with Tensorflow"
   ]
  },
  {
   "cell_type": "markdown",
   "metadata": {},
   "source": [
    "In the previous notebook, I created the algorithm to perform the classification of the MNIST data set. The MNIST data set has images of digits from 0-9. The task is assigned to each image of the digit its corresponding number. Here, I will use tensorflow to perform this task."
   ]
  },
  {
   "cell_type": "code",
   "execution_count": 113,
   "metadata": {
    "collapsed": true
   },
   "outputs": [],
   "source": [
    "import tensorflow as tf\n",
    "import numpy as np\n",
    "from sklearn import datasets\n",
    "from sklearn.model_selection import train_test_split\n",
    "import matplotlib.pyplot as plt\n",
    "%matplotlib inline"
   ]
  },
  {
   "cell_type": "code",
   "execution_count": 114,
   "metadata": {
    "collapsed": false
   },
   "outputs": [],
   "source": [
    "mnist = datasets.load_digits()\n",
    "data = mnist.data\n",
    "targets = mnist.target"
   ]
  },
  {
   "cell_type": "code",
   "execution_count": 115,
   "metadata": {
    "collapsed": true
   },
   "outputs": [],
   "source": [
    "def image_standarization(x):\n",
    "    \"\"\"\n",
    "    Normalize a list of sample image data in the range of 0 to 1\n",
    "    : x: List of image data.  The image shape is (32, 32, 3)\n",
    "    : return: Numpy array of normalize data\n",
    "    \"\"\"\n",
    "    x_demean = x - np.mean(x)\n",
    "    adjusted_sd = np.maximum(np.std(x), 1.0/np.sqrt(np.prod(x.shape)))\n",
    "    return  x_demean / adjusted_sd"
   ]
  },
  {
   "cell_type": "code",
   "execution_count": 116,
   "metadata": {
    "collapsed": true
   },
   "outputs": [],
   "source": [
    "#Standardizing data\n",
    "data = np.apply_along_axis(image_standarization, 1, data)"
   ]
  },
  {
   "cell_type": "code",
   "execution_count": 117,
   "metadata": {
    "collapsed": false
   },
   "outputs": [],
   "source": [
    "#Separating train / test / validation\n",
    "image, image_test, y, y_test = train_test_split(data, targets, test_size=0.2, train_size=0.8)\n",
    "image_train, image_val, y_train, y_val = train_test_split(image, y,test_size = 0.25, train_size =0.75)"
   ]
  },
  {
   "cell_type": "code",
   "execution_count": 118,
   "metadata": {
    "collapsed": true
   },
   "outputs": [],
   "source": [
    "learning_rate = 0.0001"
   ]
  },
  {
   "cell_type": "code",
   "execution_count": 119,
   "metadata": {
    "collapsed": true
   },
   "outputs": [],
   "source": [
    "## Get batches\n",
    "## Generating minibatches\n",
    "## Taken from udacity helper function\n",
    "def get_batch(batch_size, features, labels):\n",
    "    for start in range(0, len(features), batch_size):\n",
    "        end = min(start + batch_size, len(features))\n",
    "        yield features[start:end], labels[start:end]"
   ]
  },
  {
   "cell_type": "code",
   "execution_count": 162,
   "metadata": {
    "collapsed": false
   },
   "outputs": [],
   "source": [
    "tf.reset_default_graph()\n",
    "\n",
    "# Creating the graph\n",
    "inputs_ = tf.placeholder(tf.float32, [None, 64])\n",
    "labels_ = tf.placeholder(tf.int32, [None])\n",
    "one_hot = tf.one_hot(indices =labels_, depth=10, axis=-1)\n",
    "\n",
    "#Neural Network with hidden Rely and Softmax output layers\n",
    "hidden_layer = tf.contrib.layers.fully_connected(inputs_, 20, activation_fn=tf.nn.relu)\n",
    "logits = tf.layers.dense(hidden_layer, 10, activation=None)\n",
    "\n",
    "#Calculating cost and defining optimizer\n",
    "cost = tf.reduce_mean(tf.nn.softmax_cross_entropy_with_logits(logits=logits, labels=one_hot))\n",
    "optm = tf.train.GradientDescentOptimizer(learning_rate).minimize(cost)\n",
    "\n",
    "pred = tf.argmax(logits, 1)\n",
    "\n",
    "#Calculating Accuracy\n",
    "correct_pred = tf.equal(pred, tf.argmax(one_hot,1))\n",
    "accuracy = tf.reduce_mean(tf.cast(correct_pred, tf.float32))"
   ]
  },
  {
   "cell_type": "code",
   "execution_count": 163,
   "metadata": {
    "collapsed": true
   },
   "outputs": [],
   "source": [
    "epochs = 10000\n",
    "batch_size = 128"
   ]
  },
  {
   "cell_type": "code",
   "execution_count": 167,
   "metadata": {
    "collapsed": false
   },
   "outputs": [
    {
     "name": "stdout",
     "output_type": "stream",
     "text": [
      "Loss: 0.6568627953529358\n",
      "Validation Accuracy: 0.09166666865348816\n",
      "\n",
      "Loss: 0.6568627953529358\n",
      "Validation Accuracy: 0.4000000059604645\n",
      "\n",
      "Loss: 0.6568627953529358\n",
      "Validation Accuracy: 0.6499999761581421\n",
      "\n",
      "Loss: 0.6568627953529358\n",
      "Validation Accuracy: 0.7722222208976746\n",
      "\n",
      "Loss: 0.6568627953529358\n",
      "Validation Accuracy: 0.8527777791023254\n",
      "\n",
      "Loss: 0.6568627953529358\n",
      "Validation Accuracy: 0.8888888955116272\n",
      "\n",
      "Loss: 0.6568627953529358\n",
      "Validation Accuracy: 0.9055555462837219\n",
      "\n",
      "Loss: 0.6568627953529358\n",
      "Validation Accuracy: 0.9194444417953491\n",
      "\n",
      "Loss: 0.6568627953529358\n",
      "Validation Accuracy: 0.925000011920929\n",
      "\n",
      "Loss: 0.6568627953529358\n",
      "Validation Accuracy: 0.9361110925674438\n",
      "\n"
     ]
    }
   ],
   "source": [
    "saver = tf.train.Saver()\n",
    "with tf.Session() as sess:\n",
    "    sess.run(tf.global_variables_initializer())\n",
    "    \n",
    "    for e in range(epochs):\n",
    "        for feature_batch, label_batch in get_batch(batch_size, image_train, y_train):\n",
    "            loss_train, _ = sess.run([cost, optm], feed_dict={\n",
    "                    inputs_: feature_batch,\n",
    "                    labels_: label_batch\n",
    "                })\n",
    "            \n",
    "        if e%1000 == 0:    \n",
    "            print(\"Loss: {}\".format(loss))\n",
    "    \n",
    "    #Each 4 iterations, check validation accuracy\n",
    "        if e%1000 == 0:\n",
    "            val_acc = sess.run(accuracy, feed_dict = {\n",
    "                    inputs_: image_val,\n",
    "                    labels_: y_val\n",
    "                })\n",
    "            print(\"Validation Accuracy: {}\\n\".format(val_acc))\n",
    "            \n",
    "    \n",
    "    saver.save(sess, \"checkpoint_nn_tf/checkpoint.ckpt\")\n",
    "\n"
   ]
  },
  {
   "cell_type": "code",
   "execution_count": 168,
   "metadata": {
    "collapsed": false
   },
   "outputs": [
    {
     "name": "stdout",
     "output_type": "stream",
     "text": [
      "INFO:tensorflow:Restoring parameters from checkpoint_nn_tf/checkpoint.ckpt\n",
      "\n",
      "Test accuracy: 0.9277777671813965\n",
      "\n"
     ]
    }
   ],
   "source": [
    "with tf.Session() as sess:\n",
    "    saver.restore(sess, tf.train.latest_checkpoint(\"checkpoint_nn_tf\"))\n",
    "    test_accuracy = sess.run(accuracy, feed_dict={\n",
    "        inputs_: image_test,\n",
    "        labels_: y_test\n",
    "    })\n",
    "    \n",
    "    print(\"\\nTest accuracy: {}\\n\".format(test_accuracy))\n",
    "    "
   ]
  },
  {
   "cell_type": "code",
   "execution_count": 172,
   "metadata": {
    "collapsed": false
   },
   "outputs": [
    {
     "name": "stdout",
     "output_type": "stream",
     "text": [
      "INFO:tensorflow:Restoring parameters from checkpoint_nn_tf/checkpoint.ckpt\n",
      "\n",
      "Prediction: [4]\n",
      "\n"
     ]
    }
   ],
   "source": [
    "with tf.Session() as sess:\n",
    "    saver.restore(sess, tf.train.latest_checkpoint(\"checkpoint_nn_tf\"))\n",
    "    pred_var = sess.run(pred, feed_dict={\n",
    "        inputs_: image_test[1].reshape(1,64)\n",
    "    })\n",
    "    \n",
    "    print(\"\\nPrediction: {}\\n\".format(pred_var))\n",
    "    "
   ]
  },
  {
   "cell_type": "code",
   "execution_count": 173,
   "metadata": {
    "collapsed": false
   },
   "outputs": [
    {
     "data": {
      "text/plain": [
       "4"
      ]
     },
     "execution_count": 173,
     "metadata": {},
     "output_type": "execute_result"
    }
   ],
   "source": [
    "y_test[1]"
   ]
  },
  {
   "cell_type": "code",
   "execution_count": null,
   "metadata": {
    "collapsed": true
   },
   "outputs": [],
   "source": []
  }
 ],
 "metadata": {
  "kernelspec": {
   "display_name": "Python 3",
   "language": "python",
   "name": "python3"
  },
  "language_info": {
   "codemirror_mode": {
    "name": "ipython",
    "version": 3
   },
   "file_extension": ".py",
   "mimetype": "text/x-python",
   "name": "python",
   "nbconvert_exporter": "python",
   "pygments_lexer": "ipython3",
   "version": "3.5.3"
  }
 },
 "nbformat": 4,
 "nbformat_minor": 1
}
