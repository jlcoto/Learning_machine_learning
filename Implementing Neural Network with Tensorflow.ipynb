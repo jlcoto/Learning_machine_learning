{
 "cells": [
  {
   "cell_type": "markdown",
   "metadata": {},
   "source": [
    "# Neural Network with Tensorflow"
   ]
  },
  {
   "cell_type": "markdown",
   "metadata": {},
   "source": [
    "In the previous notebook, I created the algorithm to perform the classification of the MNIST data set. The MNIST data set has images of digits from 0-9. The task is assigned to each image of the digit its corresponding number. Here, I will use tensorflow to perform this task."
   ]
  },
  {
   "cell_type": "code",
   "execution_count": 113,
   "metadata": {
    "collapsed": true
   },
   "outputs": [],
   "source": [
    "import tensorflow as tf\n",
    "import numpy as np\n",
    "from sklearn import datasets\n",
    "from sklearn.model_selection import train_test_split\n",
    "import matplotlib.pyplot as plt\n",
    "%matplotlib inline"
   ]
  },
  {
   "cell_type": "code",
   "execution_count": 114,
   "metadata": {
    "collapsed": false
   },
   "outputs": [],
   "source": [
    "mnist = datasets.load_digits()\n",
    "data = mnist.data\n",
    "targets = mnist.target"
   ]
  },
  {
   "cell_type": "code",
   "execution_count": 115,
   "metadata": {
    "collapsed": true
   },
   "outputs": [],
   "source": [
    "def image_standarization(x):\n",
    "    \"\"\"\n",
    "    Normalize a list of sample image data in the range of 0 to 1\n",
    "    : x: List of image data.  The image shape is (32, 32, 3)\n",
    "    : return: Numpy array of normalize data\n",
    "    \"\"\"\n",
    "    x_demean = x - np.mean(x)\n",
    "    adjusted_sd = np.maximum(np.std(x), 1.0/np.sqrt(np.prod(x.shape)))\n",
    "    return  x_demean / adjusted_sd"
   ]
  },
  {
   "cell_type": "code",
   "execution_count": 116,
   "metadata": {
    "collapsed": true
   },
   "outputs": [],
   "source": [
    "#Standardizing data\n",
    "data = np.apply_along_axis(image_standarization, 1, data)"
   ]
  },
  {
   "cell_type": "code",
   "execution_count": 117,
   "metadata": {
    "collapsed": false
   },
   "outputs": [],
   "source": [
    "#Separating train / test / validation\n",
    "image, image_test, y, y_test = train_test_split(data, targets, test_size=0.2, train_size=0.8)\n",
    "image_train, image_val, y_train, y_val = train_test_split(image, y,test_size = 0.25, train_size =0.75)"
   ]
  },
  {
   "cell_type": "code",
   "execution_count": 118,
   "metadata": {
    "collapsed": true
   },
   "outputs": [],
   "source": [
    "learning_rate = 0.0001"
   ]
  },
  {
   "cell_type": "code",
   "execution_count": 119,
   "metadata": {
    "collapsed": true
   },
   "outputs": [],
   "source": [
    "## Get batches\n",
    "## Generating minibatches\n",
    "## Taken from udacity helper function\n",
    "def get_batch(batch_size, features, labels):\n",
    "    for start in range(0, len(features), batch_size):\n",
    "        end = min(start + batch_size, len(features))\n",
    "        yield features[start:end], labels[start:end]"
   ]
  },
  {
   "cell_type": "code",
   "execution_count": 120,
   "metadata": {
    "collapsed": false
   },
   "outputs": [],
   "source": [
    "tf.reset_default_graph()\n",
    "# Creating the graph\n",
    "inputs_ = tf.placeholder(tf.float32, [None, 64])\n",
    "labels_ = tf.placeholder(tf.int32, [None])\n",
    "one_hot = tf.one_hot(indices =labels_, depth=10, axis=-1)\n",
    "\n",
    "#Neural Network with hidden Rely and Softmax output layers\n",
    "hidden_layer = tf.contrib.layers.fully_connected(inputs_, 20, activation_fn=tf.nn.relu)\n",
    "logits = tf.layers.dense(hidden_layer, 10, activation=None)\n",
    "\n",
    "#Calculating cost and defining optimizer\n",
    "cost = tf.reduce_mean(tf.nn.softmax_cross_entropy_with_logits(logits=logits, labels=one_hot))\n",
    "optm = tf.train.GradientDescentOptimizer(learning_rate).minimize(cost)\n",
    "\n",
    "#Calculating Accuracy\n",
    "correct_pred = tf.equal(tf.argmax(logits, 1), tf.argmax(one_hot,1))\n",
    "accuracy = tf.reduce_mean(tf.cast(correct_pred, tf.float32))"
   ]
  },
  {
   "cell_type": "code",
   "execution_count": 121,
   "metadata": {
    "collapsed": true
   },
   "outputs": [],
   "source": [
    "epochs = 10000\n",
    "batch_size = 128"
   ]
  },
  {
   "cell_type": "code",
   "execution_count": 125,
   "metadata": {
    "collapsed": false
   },
   "outputs": [
    {
     "name": "stdout",
     "output_type": "stream",
     "text": [
      "Loss: 3.4447460174560547\n",
      "Validation Accuracy: 0.05833333358168602\n",
      "\n",
      "Loss: 1.809862494468689\n",
      "Validation Accuracy: 0.38055557012557983\n",
      "\n",
      "Loss: 1.2941428422927856\n",
      "Validation Accuracy: 0.6166666746139526\n",
      "\n",
      "Loss: 0.9520531296730042\n",
      "Validation Accuracy: 0.7388888597488403\n",
      "\n",
      "Loss: 0.7320092916488647\n",
      "Validation Accuracy: 0.8138889074325562\n",
      "\n",
      "Loss: 0.5872597098350525\n",
      "Validation Accuracy: 0.8472222089767456\n",
      "\n",
      "Loss: 0.4920727610588074\n",
      "Validation Accuracy: 0.8611111044883728\n",
      "\n",
      "Loss: 0.4263288378715515\n",
      "Validation Accuracy: 0.8722222447395325\n",
      "\n",
      "Loss: 0.3789965510368347\n",
      "Validation Accuracy: 0.8916666507720947\n",
      "\n",
      "Loss: 0.3434933125972748\n",
      "Validation Accuracy: 0.8999999761581421\n",
      "\n",
      "\n",
      "Test accuracy: 0.8833333253860474\n",
      "\n"
     ]
    }
   ],
   "source": [
    "with tf.Session() as sess:\n",
    "    sess.run(tf.global_variables_initializer())\n",
    "    \n",
    "    for e in range(epochs):\n",
    "        for feature_batch, label_batch in get_batch(batch_size, image_train, y_train):\n",
    "            loss, _ = sess.run([cost, optm], feed_dict={\n",
    "                    inputs_: feature_batch,\n",
    "                    labels_: label_batch\n",
    "                })\n",
    "            \n",
    "        if e%1000 == 0:    \n",
    "            print(\"Loss: {}\".format(loss))\n",
    "    \n",
    "    #Each 4 iterations, check validation accuracy\n",
    "        if e%1000 == 0:\n",
    "            val_acc = sess.run(accuracy, feed_dict = {\n",
    "                    inputs_: image_val,\n",
    "                    labels_: y_val\n",
    "                })\n",
    "            print(\"Validation Accuracy: {}\\n\".format(val_acc))\n",
    "    \n",
    "    test_accuracy = sess.run(accuracy, feed_dict={\n",
    "        inputs_: image_test,\n",
    "        labels_: y_test\n",
    "    })\n",
    "    \n",
    "    print(\"\\nTest accuracy: {}\\n\".format(test_accuracy))\n",
    "    \n"
   ]
  },
  {
   "cell_type": "code",
   "execution_count": null,
   "metadata": {
    "collapsed": true
   },
   "outputs": [],
   "source": []
  }
 ],
 "metadata": {
  "kernelspec": {
   "display_name": "Python 3",
   "language": "python",
   "name": "python3"
  },
  "language_info": {
   "codemirror_mode": {
    "name": "ipython",
    "version": 3
   },
   "file_extension": ".py",
   "mimetype": "text/x-python",
   "name": "python",
   "nbconvert_exporter": "python",
   "pygments_lexer": "ipython3",
   "version": "3.5.3"
  }
 },
 "nbformat": 4,
 "nbformat_minor": 1
}
