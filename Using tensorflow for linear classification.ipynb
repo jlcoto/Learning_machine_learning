{
 "cells": [
  {
   "cell_type": "markdown",
   "metadata": {},
   "source": [
    "## Using tensorflow for linear Classification\n",
    "\n",
    "Here I will use tensorflow to do a linear classfication of a batch of the CIFAR images. Of course using tensorflow for this task can be an overkill. However, the purpose of this notebook is to personally became acquainted with tf's syntax."
   ]
  },
  {
   "cell_type": "code",
   "execution_count": 124,
   "metadata": {
    "collapsed": true
   },
   "outputs": [],
   "source": [
    "import numpy as np\n",
    "import pickle\n",
    "import tensorflow as tf\n",
    "from sklearn.preprocessing import LabelBinarizer\n",
    "from sklearn.model_selection import train_test_split"
   ]
  },
  {
   "cell_type": "code",
   "execution_count": 119,
   "metadata": {
    "collapsed": true
   },
   "outputs": [],
   "source": [
    "## Get One batch of CFAR 10 data set\n",
    "\n",
    "def load_cfar10_batch(cifar10_dataset_folder_path, batch_id):\n",
    "    \"\"\"\n",
    "    Load a batch of the dataset\n",
    "    \"\"\"\n",
    "    with open(cifar10_dataset_folder_path + '/data_batch_' + str(batch_id), mode='rb') as file:\n",
    "        batch = pickle.load(file, encoding='latin1')\n",
    "\n",
    "    features = batch['data'].reshape((len(batch['data']), 3, 32, 32)).transpose(0, 2, 3, 1)\n",
    "    labels = batch['labels']\n",
    "\n",
    "    return features, labels"
   ]
  },
  {
   "cell_type": "code",
   "execution_count": 125,
   "metadata": {
    "collapsed": false
   },
   "outputs": [],
   "source": [
    "#Readin in the data\n",
    "data = load_cfar10_batch('../Udacity/deep_learning/projects/image-classification/cifar-10-batches-py',\n",
    "                 1)\n",
    "features = data[0]\n",
    "labels = data[1]"
   ]
  },
  {
   "cell_type": "code",
   "execution_count": 126,
   "metadata": {
    "collapsed": true
   },
   "outputs": [],
   "source": [
    "def image_standarization(x):\n",
    "    \"\"\"\n",
    "    Normalize a list of sample image data in the range of 0 to 1\n",
    "    : x: List of image data.  The image shape is (32, 32, 3)\n",
    "    : return: Numpy array of normalize data\n",
    "    \"\"\"\n",
    "    x_demean = x - np.mean(x)\n",
    "    adjusted_sd = np.maximum(np.std(x), 1.0/np.sqrt(np.prod(x.shape)))\n",
    "    return  x_demean / adjusted_sd\n"
   ]
  },
  {
   "cell_type": "code",
   "execution_count": 127,
   "metadata": {
    "collapsed": false,
    "deletable": true,
    "editable": true
   },
   "outputs": [],
   "source": [
    "features = np.array([image_standarization(i) for i in features])\n",
    "features = features.reshape(10000, 32*32*3)\n"
   ]
  },
  {
   "cell_type": "code",
   "execution_count": 128,
   "metadata": {
    "collapsed": false
   },
   "outputs": [],
   "source": [
    "# Updating weights after one gradient descent for first image\n",
    "#One hot encoding labels\n",
    "image_cat = list(range(0,10))\n",
    "encoder = LabelBinarizer()\n",
    "encoder.fit(image_cat)\n",
    "labels = encoder.transform(labels)"
   ]
  },
  {
   "cell_type": "code",
   "execution_count": 147,
   "metadata": {
    "collapsed": false
   },
   "outputs": [
    {
     "data": {
      "text/plain": [
       "3072"
      ]
     },
     "execution_count": 147,
     "metadata": {},
     "output_type": "execute_result"
    }
   ],
   "source": [
    "num_per_feature = features.shape[1]\n",
    "num_classes = 10"
   ]
  },
  {
   "cell_type": "code",
   "execution_count": 130,
   "metadata": {
    "collapsed": true
   },
   "outputs": [],
   "source": [
    "## Generating minibatches\n",
    "## Taken from udacity helper function\n",
    "def get_batch(batch_size, features, labels):\n",
    "    for start in range(0, len(features), batch_size):\n",
    "        end = min(start + batch_size, len(features))\n",
    "        yield features[start:end], labels[start:end]"
   ]
  },
  {
   "cell_type": "code",
   "execution_count": 131,
   "metadata": {
    "collapsed": false
   },
   "outputs": [],
   "source": [
    "#Splitting train / validation / test\n",
    "image, image_test, y, y_test = train_test_split(features,labels,test_size=0.2,train_size=0.8)\n",
    "image_train, image_val, y_train, y_val = train_test_split(image, y,test_size = 0.25,train_size =0.75)"
   ]
  },
  {
   "cell_type": "code",
   "execution_count": 146,
   "metadata": {
    "collapsed": false
   },
   "outputs": [
    {
     "data": {
      "text/plain": [
       "(6000, 3072)"
      ]
     },
     "execution_count": 146,
     "metadata": {},
     "output_type": "execute_result"
    }
   ],
   "source": [
    "image_train.shape"
   ]
  },
  {
   "cell_type": "code",
   "execution_count": 160,
   "metadata": {
    "collapsed": false
   },
   "outputs": [],
   "source": [
    "#Creating Inputs and Labels Placeholders\n",
    "tf.reset_default_graph()\n",
    "\n",
    "\n",
    "inputs_ = tf.placeholder(tf.float32, [None, num_per_feature], name=\"input\")\n",
    "labels_ = tf.placeholder(tf.int32, [None, num_classes], name=\"labels\")\n",
    "\n",
    "#Creating Weights and Biases\n",
    "W = tf.Variable(tf.random_normal([num_per_feature, num_outputs], stddev=0.1))\n",
    "b = tf.Variable(tf.random_normal([num_classes], stddev=0.1))\n",
    "fc = tf.add(tf.matmul(inputs_, W), b)\n",
    "\n",
    "logits = tf.nn.softmax(fc)\n",
    "cost = tf.reduce_mean(tf.nn.softmax_cross_entropy_with_logits(logits=fc, labels=labels_))\n",
    "optimizer = tf.train.AdamOptimizer().minimize(cost)\n",
    "\n",
    "#Accuracy calculation\n",
    "correct_pred = tf.equal(tf.argmax(logits, 1), tf.argmax(labels_, 1))\n",
    "accuracy = tf.reduce_mean(tf.cast(correct_pred, tf.float32), name='accuracy')"
   ]
  },
  {
   "cell_type": "code",
   "execution_count": 166,
   "metadata": {
    "collapsed": false
   },
   "outputs": [],
   "source": [
    "epochs = 100\n",
    "batch_size = 128"
   ]
  },
  {
   "cell_type": "code",
   "execution_count": 172,
   "metadata": {
    "collapsed": false
   },
   "outputs": [
    {
     "name": "stdout",
     "output_type": "stream",
     "text": [
      "Loss: 3.4463002681732178\n",
      "\n",
      "Validation Accuracy: 0.25\n",
      "\n",
      "Loss: 2.815884828567505\n",
      "\n",
      "Loss: 2.492341995239258\n",
      "\n",
      "Loss: 2.273406744003296\n",
      "\n",
      "Loss: 2.1115572452545166\n",
      "\n",
      "Validation Accuracy: 0.28600001335144043\n",
      "\n",
      "Loss: 1.9849728345870972\n",
      "\n",
      "Loss: 1.8836100101470947\n",
      "\n",
      "Loss: 1.8011993169784546\n",
      "\n",
      "Loss: 1.7332041263580322\n",
      "\n",
      "Validation Accuracy: 0.29600000381469727\n",
      "\n",
      "Loss: 1.6763395071029663\n",
      "\n",
      "Loss: 1.6282089948654175\n",
      "\n",
      "Loss: 1.5869934558868408\n",
      "\n",
      "Loss: 1.5512721538543701\n",
      "\n",
      "Validation Accuracy: 0.30300000309944153\n",
      "\n",
      "Loss: 1.519923448562622\n",
      "\n",
      "Loss: 1.4920724630355835\n",
      "\n",
      "Loss: 1.4670449495315552\n",
      "\n",
      "Loss: 1.4443247318267822\n",
      "\n",
      "Validation Accuracy: 0.3034999966621399\n",
      "\n",
      "Loss: 1.4235126972198486\n",
      "\n",
      "Loss: 1.4042967557907104\n",
      "\n",
      "Loss: 1.3864305019378662\n",
      "\n",
      "Loss: 1.3697155714035034\n",
      "\n",
      "Validation Accuracy: 0.30649998784065247\n",
      "\n",
      "Loss: 1.353994607925415\n",
      "\n",
      "Loss: 1.3391377925872803\n",
      "\n",
      "Loss: 1.3250408172607422\n",
      "\n",
      "Loss: 1.3116158246994019\n",
      "\n",
      "Validation Accuracy: 0.30399999022483826\n",
      "\n",
      "Loss: 1.298789143562317\n",
      "\n",
      "Loss: 1.2864996194839478\n",
      "\n",
      "Loss: 1.2746943235397339\n",
      "\n",
      "Loss: 1.263327956199646\n",
      "\n",
      "Validation Accuracy: 0.304500013589859\n",
      "\n",
      "Loss: 1.2523616552352905\n",
      "\n",
      "Loss: 1.241761326789856\n",
      "\n",
      "Loss: 1.2314974069595337\n",
      "\n",
      "Loss: 1.2215434312820435\n",
      "\n",
      "Validation Accuracy: 0.304500013589859\n",
      "\n",
      "Loss: 1.2118778228759766\n",
      "\n",
      "Loss: 1.202480435371399\n",
      "\n",
      "Loss: 1.193333387374878\n",
      "\n",
      "Loss: 1.1844208240509033\n",
      "\n",
      "Validation Accuracy: 0.304500013589859\n",
      "\n",
      "Loss: 1.1757299900054932\n",
      "\n",
      "Loss: 1.167248010635376\n",
      "\n",
      "Loss: 1.1589641571044922\n",
      "\n",
      "Loss: 1.150869369506836\n",
      "\n",
      "Validation Accuracy: 0.30149999260902405\n",
      "\n",
      "Loss: 1.1429555416107178\n",
      "\n",
      "Loss: 1.1352133750915527\n",
      "\n",
      "Loss: 1.1276378631591797\n",
      "\n",
      "Loss: 1.1202220916748047\n",
      "\n",
      "Validation Accuracy: 0.30000001192092896\n",
      "\n",
      "Loss: 1.1129602193832397\n",
      "\n",
      "Loss: 1.105846881866455\n",
      "\n",
      "Loss: 1.0988776683807373\n",
      "\n",
      "Loss: 1.092047095298767\n",
      "\n",
      "Validation Accuracy: 0.2930000126361847\n",
      "\n",
      "Loss: 1.0853519439697266\n",
      "\n",
      "Loss: 1.0787869691848755\n",
      "\n",
      "Loss: 1.0723484754562378\n",
      "\n",
      "Loss: 1.0660325288772583\n",
      "\n",
      "Validation Accuracy: 0.29100000858306885\n",
      "\n",
      "Loss: 1.05983567237854\n",
      "\n",
      "Loss: 1.0537540912628174\n",
      "\n",
      "Loss: 1.0477839708328247\n",
      "\n",
      "Loss: 1.041921854019165\n",
      "\n",
      "Validation Accuracy: 0.28850001096725464\n",
      "\n",
      "Loss: 1.0361652374267578\n",
      "\n",
      "Loss: 1.0305100679397583\n",
      "\n",
      "Loss: 1.024953842163086\n",
      "\n",
      "Loss: 1.0194933414459229\n",
      "\n",
      "Validation Accuracy: 0.289000004529953\n",
      "\n",
      "Loss: 1.0141252279281616\n",
      "\n",
      "Loss: 1.0088475942611694\n",
      "\n",
      "Loss: 1.0036571025848389\n",
      "\n",
      "Loss: 0.9985513687133789\n",
      "\n",
      "Validation Accuracy: 0.2904999852180481\n",
      "\n",
      "Loss: 0.9935274124145508\n",
      "\n",
      "Loss: 0.9885838627815247\n",
      "\n",
      "Loss: 0.9837177991867065\n",
      "\n",
      "Loss: 0.978926956653595\n",
      "\n",
      "Validation Accuracy: 0.28949999809265137\n",
      "\n",
      "Loss: 0.9742096662521362\n",
      "\n",
      "Loss: 0.9695636034011841\n",
      "\n",
      "Loss: 0.9649866223335266\n",
      "\n",
      "Loss: 0.960477352142334\n",
      "\n",
      "Validation Accuracy: 0.2854999899864197\n",
      "\n",
      "Loss: 0.9560337662696838\n",
      "\n",
      "Loss: 0.9516545534133911\n",
      "\n",
      "Loss: 0.9473375678062439\n",
      "\n",
      "Loss: 0.9430815577507019\n",
      "\n",
      "Validation Accuracy: 0.28600001335144043\n",
      "\n",
      "Loss: 0.9388850331306458\n",
      "\n",
      "Loss: 0.9347466230392456\n",
      "\n",
      "Loss: 0.9306645393371582\n",
      "\n",
      "Loss: 0.9266381859779358\n",
      "\n",
      "Validation Accuracy: 0.28700000047683716\n",
      "\n",
      "Loss: 0.9226658940315247\n",
      "\n",
      "Loss: 0.9187469482421875\n",
      "\n",
      "Loss: 0.9148792624473572\n",
      "\n",
      "Loss: 0.9110623002052307\n",
      "\n",
      "Validation Accuracy: 0.2849999964237213\n",
      "\n",
      "Loss: 0.907295286655426\n",
      "\n",
      "Loss: 0.9035767316818237\n",
      "\n",
      "Loss: 0.8999060392379761\n",
      "\n",
      "Loss: 0.8962815999984741\n",
      "\n",
      "Validation Accuracy: 0.28299999237060547\n",
      "\n",
      "Loss: 0.8927029967308044\n",
      "\n",
      "Loss: 0.8891695737838745\n",
      "\n",
      "Loss: 0.8856800198554993\n",
      "\n",
      "Loss: 0.8822336792945862\n",
      "\n",
      "Validation Accuracy: 0.28349998593330383\n",
      "\n",
      "Loss: 0.878830075263977\n",
      "\n",
      "Loss: 0.8754677772521973\n",
      "\n",
      "Loss: 0.8721463084220886\n",
      "\n",
      "Loss: 0.8688653111457825\n",
      "\n",
      "Validation Accuracy: 0.28049999475479126\n",
      "\n",
      "Loss: 0.8656237721443176\n",
      "\n",
      "Loss: 0.8624210357666016\n",
      "\n",
      "Loss: 0.8592560887336731\n",
      "\n",
      "\n",
      "Test accuracy\n",
      ": 0.2590000033378601\n"
     ]
    }
   ],
   "source": [
    "with tf.Session() as sess:\n",
    "    # Initializing the variables\n",
    "    sess.run(tf.global_variables_initializer())\n",
    "\n",
    "    for e in range(epochs):\n",
    "        for feature_batch, label_batch in get_batch(batch_size, image_train, y_train):\n",
    "            loss, _ = sess.run([cost, optimizer], feed_dict = {\n",
    "                inputs_: feature_batch, \n",
    "                labels_: label_batch})\n",
    "        print(\"Loss: {}\\n\".format(loss))\n",
    "        \n",
    "    #Each 4 iterations, check validation accuracy\n",
    "        if e%4 == 0:\n",
    "            val_acc = sess.run(accuracy, feed_dict = {\n",
    "                    inputs_: image_val,\n",
    "                    labels_: y_val\n",
    "                })\n",
    "            print(\"Validation Accuracy: {}\\n\".format(val_acc))\n",
    "            \n",
    "    #Finally get testing accuracy - This is after you have selected the appropriate\n",
    "    #parameters using your validation set.\n",
    "    \n",
    "    test_accuracy = sess.run(accuracy, feed_dict={\n",
    "        inputs_: image_test,\n",
    "        labels_: y_test\n",
    "    })\n",
    "    \n",
    "    print(\"\\nTest accuracy: {}\\n\".format(test_accuracy))\n",
    "                   "
   ]
  },
  {
   "cell_type": "code",
   "execution_count": null,
   "metadata": {
    "collapsed": true
   },
   "outputs": [],
   "source": []
  }
 ],
 "metadata": {
  "kernelspec": {
   "display_name": "Python [conda env:dlnd-tf-lab]",
   "language": "python",
   "name": "conda-env-dlnd-tf-lab-py"
  },
  "language_info": {
   "codemirror_mode": {
    "name": "ipython",
    "version": 3
   },
   "file_extension": ".py",
   "mimetype": "text/x-python",
   "name": "python",
   "nbconvert_exporter": "python",
   "pygments_lexer": "ipython3",
   "version": "3.5.3"
  }
 },
 "nbformat": 4,
 "nbformat_minor": 2
}
