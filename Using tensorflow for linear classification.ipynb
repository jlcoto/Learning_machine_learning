{
 "cells": [
  {
   "cell_type": "markdown",
   "metadata": {},
   "source": [
    "## Using tensorflow for linear Classification\n",
    "\n",
    "Here I will use tensorflow to do a linear classfication of a batch of the CIFAR images. Of course using tensorflow for this task can be an overkill. However, the purpose of this notebook is to personally became acquainted with tf's syntax."
   ]
  },
  {
   "cell_type": "code",
   "execution_count": 124,
   "metadata": {
    "collapsed": true
   },
   "outputs": [],
   "source": [
    "import numpy as np\n",
    "import pickle\n",
    "import tensorflow as tf\n",
    "from sklearn.preprocessing import LabelBinarizer\n",
    "from sklearn.model_selection import train_test_split"
   ]
  },
  {
   "cell_type": "code",
   "execution_count": 119,
   "metadata": {
    "collapsed": true
   },
   "outputs": [],
   "source": [
    "## Get One batch of CFAR 10 data set\n",
    "\n",
    "def load_cfar10_batch(cifar10_dataset_folder_path, batch_id):\n",
    "    \"\"\"\n",
    "    Load a batch of the dataset\n",
    "    \"\"\"\n",
    "    with open(cifar10_dataset_folder_path + '/data_batch_' + str(batch_id), mode='rb') as file:\n",
    "        batch = pickle.load(file, encoding='latin1')\n",
    "\n",
    "    features = batch['data'].reshape((len(batch['data']), 3, 32, 32)).transpose(0, 2, 3, 1)\n",
    "    labels = batch['labels']\n",
    "\n",
    "    return features, labels"
   ]
  },
  {
   "cell_type": "code",
   "execution_count": 125,
   "metadata": {
    "collapsed": false
   },
   "outputs": [],
   "source": [
    "#Readin in the data\n",
    "data = load_cfar10_batch('../Udacity/deep_learning/projects/image-classification/cifar-10-batches-py',\n",
    "                 1)\n",
    "features = data[0]\n",
    "labels = data[1]"
   ]
  },
  {
   "cell_type": "code",
   "execution_count": 126,
   "metadata": {
    "collapsed": true
   },
   "outputs": [],
   "source": [
    "def image_standarization(x):\n",
    "    \"\"\"\n",
    "    Normalize a list of sample image data in the range of 0 to 1\n",
    "    : x: List of image data.  The image shape is (32, 32, 3)\n",
    "    : return: Numpy array of normalize data\n",
    "    \"\"\"\n",
    "    x_demean = x - np.mean(x)\n",
    "    adjusted_sd = np.maximum(np.std(x), 1.0/np.sqrt(np.prod(x.shape)))\n",
    "    return  x_demean / adjusted_sd\n"
   ]
  },
  {
   "cell_type": "code",
   "execution_count": 127,
   "metadata": {
    "collapsed": false,
    "deletable": true,
    "editable": true
   },
   "outputs": [],
   "source": [
    "features = np.array([image_standarization(i) for i in features])\n",
    "features = features.reshape(10000, 32*32*3)\n"
   ]
  },
  {
   "cell_type": "code",
   "execution_count": 128,
   "metadata": {
    "collapsed": false
   },
   "outputs": [],
   "source": [
    "# Updating weights after one gradient descent for first image\n",
    "#One hot encoding labels\n",
    "image_cat = list(range(0,10))\n",
    "encoder = LabelBinarizer()\n",
    "encoder.fit(image_cat)\n",
    "labels = encoder.transform(labels)"
   ]
  },
  {
   "cell_type": "code",
   "execution_count": 129,
   "metadata": {
    "collapsed": false
   },
   "outputs": [],
   "source": [
    "num_per_feature = features.shape[1]\n",
    "num_classes = 10"
   ]
  },
  {
   "cell_type": "code",
   "execution_count": 130,
   "metadata": {
    "collapsed": true
   },
   "outputs": [],
   "source": [
    "## Generating minibatches\n",
    "## Taken from udacity helper function\n",
    "def get_batch(batch_size, features, labels):\n",
    "    for start in range(0, len(features), batch_size):\n",
    "        end = min(start + batch_size, len(features))\n",
    "        yield features[start:end], labels[start:end]"
   ]
  },
  {
   "cell_type": "code",
   "execution_count": 131,
   "metadata": {
    "collapsed": false
   },
   "outputs": [],
   "source": [
    "#Splitting train / validation / test\n",
    "image, image_test, y, y_test = train_test_split(features,labels,test_size=0.2,train_size=0.8)\n",
    "image_train, image_val, y_train, y_val = train_test_split(image, y,test_size = 0.25,train_size =0.75)"
   ]
  },
  {
   "cell_type": "code",
   "execution_count": 135,
   "metadata": {
    "collapsed": false
   },
   "outputs": [],
   "source": [
    "#Creating Inputs and Labels Placeholders\n",
    "tf.reset_default_graph()\n",
    "\n",
    "\n",
    "inputs_ = tf.placeholder(tf.float32, [None, num_per_feature], name=\"input\")\n",
    "labels_ = tf.placeholder(tf.int32, [None, num_classes], name=\"labels\")\n",
    "\n",
    "#Creating Weights and Biases\n",
    "W = tf.Variable(tf.random_normal([num_per_feature, num_outputs], stddev=0.1))\n",
    "b = tf.Variable(tf.random_normal([num_classes], stddev=0.1))\n",
    "fc = tf.add(tf.matmul(inputs_, W), b)\n",
    "\n",
    "logits = tf.nn.softmax(fc)\n",
    "cost = tf.reduce_mean(tf.nn.softmax_cross_entropy_with_logits(logits=fc, labels=labels_))\n",
    "optimizer = tf.train.AdamOptimizer().minimize(cost)\n",
    "\n",
    "#Accuracy calculation\n",
    "correct_pred = tf.equal(tf.argmax(logits, 1), tf.argmax(y, 1))\n",
    "accuracy = tf.reduce_mean(tf.cast(correct_pred, tf.float32), name='accuracy')"
   ]
  },
  {
   "cell_type": "code",
   "execution_count": 136,
   "metadata": {
    "collapsed": false
   },
   "outputs": [],
   "source": [
    "epochs = 20\n",
    "batch_size = 128"
   ]
  },
  {
   "cell_type": "code",
   "execution_count": 140,
   "metadata": {
    "collapsed": false
   },
   "outputs": [
    {
     "name": "stdout",
     "output_type": "stream",
     "text": [
      "\n",
      "Loss: 3.0775485038757324\n",
      "\n",
      "Loss: 2.5977413654327393\n",
      "\n",
      "Loss: 2.3242011070251465\n",
      "\n",
      "Loss: 2.1430695056915283\n",
      "\n",
      "Loss: 2.008232355117798\n",
      "\n",
      "Loss: 1.9026168584823608\n",
      "\n",
      "Loss: 1.8177824020385742\n",
      "\n",
      "Loss: 1.7485713958740234\n",
      "\n",
      "Loss: 1.6911296844482422\n",
      "\n",
      "Loss: 1.6425336599349976\n",
      "\n",
      "Loss: 1.6007243394851685\n",
      "\n",
      "Loss: 1.5642770528793335\n",
      "\n",
      "Loss: 1.532165765762329\n",
      "\n",
      "Loss: 1.5036081075668335\n",
      "\n",
      "Loss: 1.4779771566390991\n",
      "\n",
      "Loss: 1.4547545909881592\n",
      "\n",
      "Loss: 1.433512568473816\n",
      "\n",
      "Loss: 1.4139033555984497\n",
      "\n",
      "Loss: 1.3956495523452759\n",
      "\n",
      "Loss: 1.3785313367843628\n"
     ]
    }
   ],
   "source": [
    "with tf.Session() as sess:\n",
    "    # Initializing the variables\n",
    "    sess.run(tf.global_variables_initializer())\n",
    "\n",
    "    for e in range(epochs):\n",
    "        for feature_batch, label_batch in get_batch(batch_size, image_train, y_train):\n",
    "\n",
    "            loss, _ = sess.run([cost, optimizer], feed_dict = {inputs_: feature_batch, labels_: label_batch})\n",
    "    \n",
    "        print(\"\\nLoss: {}\".format(loss))"
   ]
  },
  {
   "cell_type": "code",
   "execution_count": null,
   "metadata": {
    "collapsed": true
   },
   "outputs": [],
   "source": []
  }
 ],
 "metadata": {
  "kernelspec": {
   "display_name": "Python [conda env:dlnd-tf-lab]",
   "language": "python",
   "name": "conda-env-dlnd-tf-lab-py"
  },
  "language_info": {
   "codemirror_mode": {
    "name": "ipython",
    "version": 3
   },
   "file_extension": ".py",
   "mimetype": "text/x-python",
   "name": "python",
   "nbconvert_exporter": "python",
   "pygments_lexer": "ipython3",
   "version": "3.5.3"
  }
 },
 "nbformat": 4,
 "nbformat_minor": 2
}
