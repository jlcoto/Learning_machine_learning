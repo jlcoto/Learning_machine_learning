{
 "cells": [
  {
   "cell_type": "markdown",
   "metadata": {},
   "source": [
    "## Using tensorflow for linear Classification\n",
    "\n",
    "Here I will use tensorflow to do a linear classfication of a batch of the CIFAR images. Of course using tensorflow for this task can be an overkill. However, the purpose of this notebook is to personally became acquainted with tf's syntax."
   ]
  },
  {
   "cell_type": "code",
   "execution_count": 124,
   "metadata": {
    "collapsed": true
   },
   "outputs": [],
   "source": [
    "import numpy as np\n",
    "import pickle\n",
    "import tensorflow as tf\n",
    "from sklearn.preprocessing import LabelBinarizer\n",
    "from sklearn.model_selection import train_test_split"
   ]
  },
  {
   "cell_type": "code",
   "execution_count": 119,
   "metadata": {
    "collapsed": true
   },
   "outputs": [],
   "source": [
    "## Get One batch of CFAR 10 data set\n",
    "\n",
    "def load_cfar10_batch(cifar10_dataset_folder_path, batch_id):\n",
    "    \"\"\"\n",
    "    Load a batch of the dataset\n",
    "    \"\"\"\n",
    "    with open(cifar10_dataset_folder_path + '/data_batch_' + str(batch_id), mode='rb') as file:\n",
    "        batch = pickle.load(file, encoding='latin1')\n",
    "\n",
    "    features = batch['data'].reshape((len(batch['data']), 3, 32, 32)).transpose(0, 2, 3, 1)\n",
    "    labels = batch['labels']\n",
    "\n",
    "    return features, labels"
   ]
  },
  {
   "cell_type": "code",
   "execution_count": 125,
   "metadata": {
    "collapsed": false
   },
   "outputs": [],
   "source": [
    "#Readin in the data\n",
    "data = load_cfar10_batch('../Udacity/deep_learning/projects/image-classification/cifar-10-batches-py',\n",
    "                 1)\n",
    "features = data[0]\n",
    "labels = data[1]"
   ]
  },
  {
   "cell_type": "code",
   "execution_count": 126,
   "metadata": {
    "collapsed": true
   },
   "outputs": [],
   "source": [
    "def image_standarization(x):\n",
    "    \"\"\"\n",
    "    Normalize a list of sample image data in the range of 0 to 1\n",
    "    : x: List of image data.  The image shape is (32, 32, 3)\n",
    "    : return: Numpy array of normalize data\n",
    "    \"\"\"\n",
    "    x_demean = x - np.mean(x)\n",
    "    adjusted_sd = np.maximum(np.std(x), 1.0/np.sqrt(np.prod(x.shape)))\n",
    "    return  x_demean / adjusted_sd\n"
   ]
  },
  {
   "cell_type": "code",
   "execution_count": 127,
   "metadata": {
    "collapsed": false,
    "deletable": true,
    "editable": true
   },
   "outputs": [],
   "source": [
    "features = np.array([image_standarization(i) for i in features])\n",
    "features = features.reshape(10000, 32*32*3)\n"
   ]
  },
  {
   "cell_type": "code",
   "execution_count": 128,
   "metadata": {
    "collapsed": false
   },
   "outputs": [],
   "source": [
    "# Updating weights after one gradient descent for first image\n",
    "#One hot encoding labels\n",
    "image_cat = list(range(0,10))\n",
    "encoder = LabelBinarizer()\n",
    "encoder.fit(image_cat)\n",
    "labels = encoder.transform(labels)"
   ]
  },
  {
   "cell_type": "code",
   "execution_count": 147,
   "metadata": {
    "collapsed": false
   },
   "outputs": [
    {
     "data": {
      "text/plain": [
       "3072"
      ]
     },
     "execution_count": 147,
     "metadata": {},
     "output_type": "execute_result"
    }
   ],
   "source": [
    "num_per_feature = features.shape[1]\n",
    "num_classes = 10"
   ]
  },
  {
   "cell_type": "code",
   "execution_count": 130,
   "metadata": {
    "collapsed": true
   },
   "outputs": [],
   "source": [
    "## Generating minibatches\n",
    "## Taken from udacity helper function\n",
    "def get_batch(batch_size, features, labels):\n",
    "    for start in range(0, len(features), batch_size):\n",
    "        end = min(start + batch_size, len(features))\n",
    "        yield features[start:end], labels[start:end]"
   ]
  },
  {
   "cell_type": "code",
   "execution_count": 131,
   "metadata": {
    "collapsed": false
   },
   "outputs": [],
   "source": [
    "#Splitting train / validation / test\n",
    "image, image_test, y, y_test = train_test_split(features,labels,test_size=0.2,train_size=0.8)\n",
    "image_train, image_val, y_train, y_val = train_test_split(image, y,test_size = 0.25,train_size =0.75)"
   ]
  },
  {
   "cell_type": "code",
   "execution_count": 146,
   "metadata": {
    "collapsed": false
   },
   "outputs": [
    {
     "data": {
      "text/plain": [
       "(6000, 3072)"
      ]
     },
     "execution_count": 146,
     "metadata": {},
     "output_type": "execute_result"
    }
   ],
   "source": [
    "image_train.shape"
   ]
  },
  {
   "cell_type": "code",
   "execution_count": 160,
   "metadata": {
    "collapsed": false
   },
   "outputs": [],
   "source": [
    "#Creating Inputs and Labels Placeholders\n",
    "tf.reset_default_graph()\n",
    "\n",
    "\n",
    "inputs_ = tf.placeholder(tf.float32, [None, num_per_feature], name=\"input\")\n",
    "labels_ = tf.placeholder(tf.int32, [None, num_classes], name=\"labels\")\n",
    "\n",
    "#Creating Weights and Biases\n",
    "W = tf.Variable(tf.random_normal([num_per_feature, num_outputs], stddev=0.1))\n",
    "b = tf.Variable(tf.random_normal([num_classes], stddev=0.1))\n",
    "fc = tf.add(tf.matmul(inputs_, W), b)\n",
    "\n",
    "logits = tf.nn.softmax(fc)\n",
    "cost = tf.reduce_mean(tf.nn.softmax_cross_entropy_with_logits(logits=fc, labels=labels_))\n",
    "optimizer = tf.train.AdamOptimizer().minimize(cost)\n",
    "\n",
    "#Accuracy calculation\n",
    "correct_pred = tf.equal(tf.argmax(logits, 1), tf.argmax(labels_, 1))\n",
    "accuracy = tf.reduce_mean(tf.cast(correct_pred, tf.float32), name='accuracy')"
   ]
  },
  {
   "cell_type": "code",
   "execution_count": 166,
   "metadata": {
    "collapsed": false
   },
   "outputs": [],
   "source": [
    "epochs = 100\n",
    "batch_size = 128"
   ]
  },
  {
   "cell_type": "code",
   "execution_count": 173,
   "metadata": {
    "collapsed": false
   },
   "outputs": [
    {
     "name": "stdout",
     "output_type": "stream",
     "text": [
      "Loss: 3.536233425140381\n",
      "\n",
      "Validation Accuracy: 0.23649999499320984\n",
      "\n",
      "Loss: 2.9574034214019775\n",
      "\n",
      "Loss: 2.5834755897521973\n",
      "\n",
      "Loss: 2.3582351207733154\n",
      "\n",
      "Loss: 2.202505350112915\n",
      "\n",
      "Validation Accuracy: 0.2809999883174896\n",
      "\n",
      "Loss: 2.0850110054016113\n",
      "\n",
      "Loss: 1.9910839796066284\n",
      "\n",
      "Loss: 1.9132028818130493\n",
      "\n",
      "Loss: 1.8470075130462646\n",
      "\n",
      "Validation Accuracy: 0.2915000021457672\n",
      "\n",
      "Loss: 1.7895697355270386\n",
      "\n",
      "Loss: 1.7388856410980225\n",
      "\n",
      "Loss: 1.69361412525177\n",
      "\n",
      "Loss: 1.6528518199920654\n",
      "\n",
      "Validation Accuracy: 0.296999990940094\n",
      "\n",
      "Loss: 1.615966558456421\n",
      "\n",
      "Loss: 1.5824788808822632\n",
      "\n",
      "Loss: 1.5519965887069702\n",
      "\n",
      "Loss: 1.5241795778274536\n",
      "\n",
      "Validation Accuracy: 0.30550000071525574\n",
      "\n",
      "Loss: 1.4987257719039917\n",
      "\n",
      "Loss: 1.47536301612854\n",
      "\n",
      "Loss: 1.4538495540618896\n",
      "\n",
      "Loss: 1.4339689016342163\n",
      "\n",
      "Validation Accuracy: 0.3034999966621399\n",
      "\n",
      "Loss: 1.4155322313308716\n",
      "\n",
      "Loss: 1.3983707427978516\n",
      "\n",
      "Loss: 1.3823373317718506\n",
      "\n",
      "Loss: 1.3673009872436523\n",
      "\n",
      "Validation Accuracy: 0.304500013589859\n",
      "\n",
      "Loss: 1.3531461954116821\n",
      "\n",
      "Loss: 1.339772343635559\n",
      "\n",
      "Loss: 1.3270889520645142\n",
      "\n",
      "Loss: 1.3150180578231812\n",
      "\n",
      "Validation Accuracy: 0.29899999499320984\n",
      "\n",
      "Loss: 1.3034921884536743\n",
      "\n",
      "Loss: 1.2924516201019287\n",
      "\n",
      "Loss: 1.2818448543548584\n",
      "\n",
      "Loss: 1.2716268301010132\n",
      "\n",
      "Validation Accuracy: 0.30149999260902405\n",
      "\n",
      "Loss: 1.2617599964141846\n",
      "\n",
      "Loss: 1.2522093057632446\n",
      "\n",
      "Loss: 1.2429468631744385\n",
      "\n",
      "Loss: 1.233946681022644\n",
      "\n",
      "Validation Accuracy: 0.30149999260902405\n",
      "\n",
      "Loss: 1.2251871824264526\n",
      "\n",
      "Loss: 1.2166492938995361\n",
      "\n",
      "Loss: 1.2083150148391724\n",
      "\n",
      "Loss: 1.2001711130142212\n",
      "\n",
      "Validation Accuracy: 0.3009999990463257\n",
      "\n",
      "Loss: 1.1922035217285156\n",
      "\n",
      "Loss: 1.1844016313552856\n",
      "\n",
      "Loss: 1.1767539978027344\n",
      "\n",
      "Loss: 1.1692531108856201\n",
      "\n",
      "Validation Accuracy: 0.30149999260902405\n",
      "\n",
      "Loss: 1.161889910697937\n",
      "\n",
      "Loss: 1.1546577215194702\n",
      "\n",
      "Loss: 1.1475495100021362\n",
      "\n",
      "Loss: 1.1405601501464844\n",
      "\n",
      "Validation Accuracy: 0.29750001430511475\n",
      "\n",
      "Loss: 1.1336838006973267\n",
      "\n",
      "Loss: 1.1269162893295288\n",
      "\n",
      "Loss: 1.1202528476715088\n",
      "\n",
      "Loss: 1.1136895418167114\n",
      "\n",
      "Validation Accuracy: 0.296999990940094\n",
      "\n",
      "Loss: 1.1072229146957397\n",
      "\n",
      "Loss: 1.1008501052856445\n",
      "\n",
      "Loss: 1.0945676565170288\n",
      "\n",
      "Loss: 1.0883724689483643\n",
      "\n",
      "Validation Accuracy: 0.29249998927116394\n",
      "\n",
      "Loss: 1.082262635231018\n",
      "\n",
      "Loss: 1.0762351751327515\n",
      "\n",
      "Loss: 1.0702884197235107\n",
      "\n",
      "Loss: 1.0644201040267944\n",
      "\n",
      "Validation Accuracy: 0.2904999852180481\n",
      "\n",
      "Loss: 1.0586283206939697\n",
      "\n",
      "Loss: 1.0529111623764038\n",
      "\n",
      "Loss: 1.0472670793533325\n",
      "\n",
      "Loss: 1.0416942834854126\n",
      "\n",
      "Validation Accuracy: 0.28850001096725464\n",
      "\n",
      "Loss: 1.0361915826797485\n",
      "\n",
      "Loss: 1.0307573080062866\n",
      "\n",
      "Loss: 1.0253912210464478\n",
      "\n",
      "Loss: 1.0200904607772827\n",
      "\n",
      "Validation Accuracy: 0.2874999940395355\n",
      "\n",
      "Loss: 1.0148547887802124\n",
      "\n",
      "Loss: 1.0096827745437622\n",
      "\n",
      "Loss: 1.004573941230774\n",
      "\n",
      "Loss: 0.9995269179344177\n",
      "\n",
      "Validation Accuracy: 0.289000004529953\n",
      "\n",
      "Loss: 0.9945407509803772\n",
      "\n",
      "Loss: 0.9896144866943359\n",
      "\n",
      "Loss: 0.984747052192688\n",
      "\n",
      "Loss: 0.9799385070800781\n",
      "\n",
      "Validation Accuracy: 0.28700000047683716\n",
      "\n",
      "Loss: 0.9751871824264526\n",
      "\n",
      "Loss: 0.9704923629760742\n",
      "\n",
      "Loss: 0.9658535718917847\n",
      "\n",
      "Loss: 0.9612698554992676\n",
      "\n",
      "Validation Accuracy: 0.2849999964237213\n",
      "\n",
      "Loss: 0.9567407965660095\n",
      "\n",
      "Loss: 0.9522654414176941\n",
      "\n",
      "Loss: 0.9478432536125183\n",
      "\n",
      "Loss: 0.9434736371040344\n",
      "\n",
      "Validation Accuracy: 0.2840000092983246\n",
      "\n",
      "Loss: 0.9391554594039917\n",
      "\n",
      "Loss: 0.9348887205123901\n",
      "\n",
      "Loss: 0.9306723475456238\n",
      "\n",
      "Loss: 0.9265063405036926\n",
      "\n",
      "Validation Accuracy: 0.28349998593330383\n",
      "\n",
      "Loss: 0.922389030456543\n",
      "\n",
      "Loss: 0.91832035779953\n",
      "\n",
      "Loss: 0.9143000245094299\n",
      "\n",
      "Loss: 0.9103268384933472\n",
      "\n",
      "Validation Accuracy: 0.2824999988079071\n",
      "\n",
      "Loss: 0.9064007997512817\n",
      "\n",
      "Loss: 0.9025207757949829\n",
      "\n",
      "Loss: 0.8986864686012268\n",
      "\n",
      "Loss: 0.8948971629142761\n",
      "\n",
      "Validation Accuracy: 0.2800000011920929\n",
      "\n",
      "Loss: 0.8911523222923279\n",
      "\n",
      "Loss: 0.8874514698982239\n",
      "\n",
      "Loss: 0.8837937116622925\n",
      "\n",
      "\n",
      "Test accuracy: 0.2619999945163727\n",
      "\n"
     ]
    }
   ],
   "source": [
    "with tf.Session() as sess:\n",
    "    # Initializing the variables\n",
    "    sess.run(tf.global_variables_initializer())\n",
    "\n",
    "    for e in range(epochs):\n",
    "        for feature_batch, label_batch in get_batch(batch_size, image_train, y_train):\n",
    "            loss, _ = sess.run([cost, optimizer], feed_dict = {\n",
    "                inputs_: feature_batch, \n",
    "                labels_: label_batch})\n",
    "        print(\"Loss: {}\\n\".format(loss))\n",
    "        \n",
    "    #Each 4 iterations, check validation accuracy\n",
    "        if e%4 == 0:\n",
    "            val_acc = sess.run(accuracy, feed_dict = {\n",
    "                    inputs_: image_val,\n",
    "                    labels_: y_val\n",
    "                })\n",
    "            print(\"Validation Accuracy: {}\\n\".format(val_acc))\n",
    "            \n",
    "    #Finally get testing accuracy - This is after you have selected the appropriate\n",
    "    #parameters using your validation set.\n",
    "    \n",
    "    test_accuracy = sess.run(accuracy, feed_dict={\n",
    "        inputs_: image_test,\n",
    "        labels_: y_test\n",
    "    })\n",
    "    \n",
    "    print(\"\\nTest accuracy: {}\\n\".format(test_accuracy))\n",
    "                   "
   ]
  },
  {
   "cell_type": "code",
   "execution_count": null,
   "metadata": {
    "collapsed": true
   },
   "outputs": [],
   "source": []
  }
 ],
 "metadata": {
  "kernelspec": {
   "display_name": "Python [conda env:dlnd-tf-lab]",
   "language": "python",
   "name": "conda-env-dlnd-tf-lab-py"
  },
  "language_info": {
   "codemirror_mode": {
    "name": "ipython",
    "version": 3
   },
   "file_extension": ".py",
   "mimetype": "text/x-python",
   "name": "python",
   "nbconvert_exporter": "python",
   "pygments_lexer": "ipython3",
   "version": "3.5.3"
  }
 },
 "nbformat": 4,
 "nbformat_minor": 2
}
